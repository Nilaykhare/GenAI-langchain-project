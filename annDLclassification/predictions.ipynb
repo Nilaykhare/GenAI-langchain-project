{
 "cells": [
  {
   "cell_type": "code",
   "id": "initial_id",
   "metadata": {
    "collapsed": true,
    "ExecuteTime": {
     "end_time": "2025-06-21T14:56:25.165738Z",
     "start_time": "2025-06-21T14:56:21.034499Z"
    }
   },
   "source": [
    "import tensorflow as tf\n",
    "from tensorflow.keras.models import load_model\n",
    "import pickle\n",
    "import pandas as pd\n",
    "import numpy as np"
   ],
   "execution_count": 1,
   "outputs": []
  },
  {
   "metadata": {
    "ExecuteTime": {
     "end_time": "2025-06-21T14:56:27.282822Z",
     "start_time": "2025-06-21T14:56:27.162439Z"
    }
   },
   "cell_type": "code",
   "source": [
    "## load the ANN trained model, scaler, pickle, onehot\n",
    "model = load_model('model.h5')\n",
    "\n",
    "with open('labe_encoder_gender.pkl','rb') as file:\n",
    "    label_encoder_gender= pickle.load(file)\n",
    "\n",
    "with open('onehot_encoder_geo.pkl','rb') as file:\n",
    "    label_encoder_geo= pickle.load(file)\n",
    "    \n",
    "with open('scaler.pkl','rb') as file:\n",
    "    scaler= pickle.load(file)"
   ],
   "id": "3aaa5c8fef525626",
   "execution_count": 2,
   "outputs": []
  },
  {
   "metadata": {
    "ExecuteTime": {
     "end_time": "2025-06-21T14:56:27.765420Z",
     "start_time": "2025-06-21T14:56:27.761253Z"
    }
   },
   "cell_type": "code",
   "source": [
    "# Example input data\n",
    "\n",
    "input_data = { 'CreditScore':600,\n",
    "                'Geography':'France',\n",
    "                'Gender':'Male',\n",
    "                'Age':40,\n",
    "                'Tenure': 3,\n",
    "                'Balance': 60000,\n",
    "                'NumOfProducts': 2,\n",
    "                'HasCrCard': 1,\n",
    "                'IsActiveMember': 1,\n",
    "                'EstimatedSalary': 50000}"
   ],
   "id": "10ce642afd0c530d",
   "execution_count": 3,
   "outputs": []
  },
  {
   "metadata": {
    "ExecuteTime": {
     "end_time": "2025-06-21T14:56:28.463546Z",
     "start_time": "2025-06-21T14:56:28.448087Z"
    }
   },
   "cell_type": "code",
   "source": [
    "geo_encoded = label_encoder_geo.transform([[input_data['Geography']]]).toarray()\n",
    "geo_encoded_df = pd.DataFrame(geo_encoded,columns=label_encoder_geo.get_feature_names_out(['Geography']))\n",
    "geo_encoded_df"
   ],
   "id": "516b68266f66480f",
   "execution_count": 4,
   "outputs": []
  },
  {
   "metadata": {
    "ExecuteTime": {
     "end_time": "2025-06-21T14:56:29.802805Z",
     "start_time": "2025-06-21T14:56:29.793927Z"
    }
   },
   "cell_type": "code",
   "source": [
    "# One-hot encode 'Geography'\n",
    "geo_encoded = label_encoder_geo.transform([[input_data['Geography']]]).toarray()\n",
    "geo_encoded_df = pd.DataFrame(geo_encoded, columns=label_encoder_geo.get_feature_names_out(['Geography']))\n",
    "geo_encoded_df"
   ],
   "id": "77f502457f274a36",
   "execution_count": 5,
   "outputs": []
  },
  {
   "metadata": {
    "ExecuteTime": {
     "end_time": "2025-06-21T14:56:31.677404Z",
     "start_time": "2025-06-21T14:56:31.667338Z"
    }
   },
   "cell_type": "code",
   "source": [
    "input_data = pd.DataFrame([input_data])\n",
    "input_data"
   ],
   "id": "852371efa09617bf",
   "execution_count": 6,
   "outputs": []
  },
  {
   "metadata": {
    "ExecuteTime": {
     "end_time": "2025-06-21T14:56:38.904674Z",
     "start_time": "2025-06-21T14:56:38.902249Z"
    }
   },
   "cell_type": "code",
   "source": "",
   "id": "75f52d72c33025a1",
   "execution_count": 6,
   "outputs": []
  },
  {
   "metadata": {
    "ExecuteTime": {
     "end_time": "2025-06-21T14:56:39.715278Z",
     "start_time": "2025-06-21T14:56:39.704796Z"
    }
   },
   "cell_type": "code",
   "source": [
    "input_df = pd.concat([input_data.reset_index(drop=True), geo_encoded_df], axis=1)\n",
    "input_df"
   ],
   "id": "190c5eb280c5bdb0",
   "execution_count": 7,
   "outputs": []
  },
  {
   "metadata": {
    "ExecuteTime": {
     "end_time": "2025-06-21T14:56:47.707176Z",
     "start_time": "2025-06-21T14:56:47.696215Z"
    }
   },
   "cell_type": "code",
   "source": [
    "## Encode categorical variables\n",
    "\n",
    "input_df['Gender'] = label_encoder_gender.transform(input_df['Gender'])\n",
    "input_df"
   ],
   "id": "82038de3a328e3f4",
   "execution_count": 8,
   "outputs": []
  },
  {
   "metadata": {
    "ExecuteTime": {
     "end_time": "2025-06-21T14:57:59.035277Z",
     "start_time": "2025-06-21T14:57:59.024993Z"
    }
   },
   "cell_type": "code",
   "source": [
    "input_df = input_df.drop(\"Geography\",axis=1)\n",
    "input_df"
   ],
   "id": "1358adffa32d5f0c",
   "execution_count": 9,
   "outputs": []
  },
  {
   "metadata": {
    "ExecuteTime": {
     "end_time": "2025-06-21T14:59:00.392286Z",
     "start_time": "2025-06-21T14:59:00.387651Z"
    }
   },
   "cell_type": "code",
   "source": [
    "## sacling the input data\n",
    "input_scaled = scaler.transform(input_df)"
   ],
   "id": "67443ace7280c585",
   "execution_count": 10,
   "outputs": []
  },
  {
   "metadata": {
    "ExecuteTime": {
     "end_time": "2025-06-21T14:59:44.020824Z",
     "start_time": "2025-06-21T14:59:43.869406Z"
    }
   },
   "cell_type": "code",
   "source": "prediction = model.predict(input_scaled)",
   "id": "5150d7f65e4e352a",
   "execution_count": 11,
   "outputs": []
  },
  {
   "metadata": {
    "ExecuteTime": {
     "end_time": "2025-06-21T15:00:17.846684Z",
     "start_time": "2025-06-21T15:00:17.841391Z"
    }
   },
   "cell_type": "code",
   "source": [
    "prediction_proba = prediction[0][0]\n",
    "prediction_proba"
   ],
   "id": "a3d749ac48d6a412",
   "execution_count": 13,
   "outputs": []
  },
  {
   "metadata": {
    "ExecuteTime": {
     "end_time": "2025-06-21T15:01:23.061088Z",
     "start_time": "2025-06-21T15:01:23.055626Z"
    }
   },
   "cell_type": "code",
   "source": [
    "if prediction_proba > 0.5:\n",
    "    print('The customer is likely to churn')\n",
    "else:\n",
    "    print('The customer is not likely to churn')"
   ],
   "id": "43ecd376362f94bd",
   "execution_count": 14,
   "outputs": []
  },
  {
   "metadata": {},
   "cell_type": "code",
   "execution_count": null,
   "source": "",
   "id": "c4b8689b87a7041f",
   "outputs": []
  }
 ],
 "metadata": {
  "kernelspec": {
   "display_name": "Python 3",
   "language": "python",
   "name": "python3"
  },
  "language_info": {
   "codemirror_mode": {
    "name": "ipython",
    "version": 2
   },
   "file_extension": ".py",
   "mimetype": "text/x-python",
   "name": "python",
   "nbconvert_exporter": "python",
   "pygments_lexer": "ipython2",
   "version": "2.7.6"
  }
 },
 "nbformat": 4,
 "nbformat_minor": 5
}
