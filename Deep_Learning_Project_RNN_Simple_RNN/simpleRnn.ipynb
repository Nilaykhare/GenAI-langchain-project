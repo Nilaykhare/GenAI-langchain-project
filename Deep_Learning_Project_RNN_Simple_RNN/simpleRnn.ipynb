{
 "cells": [
  {
   "metadata": {},
   "cell_type": "markdown",
   "source": [
    "# End-to-End Deep Learning Project Using Simple RNN for Sentiment Analysis\n",
    "\n",
    "This project demonstrates how to build a simple Recurrent Neural Network (RNN) to perform sentiment analysis on movie reviews using the IMDB dataset. The model classifies movie reviews as either positive or negative based on the review text.\n",
    "\n",
    "## Overview\n",
    "\n",
    "- **Dataset:** IMDB movie reviews dataset (10,000 most frequent words)\n",
    "- **Task:** Binary classification (positive/negative sentiment)\n",
    "- **Model:** Sequential Keras model with an Embedding layer, a Simple RNN layer, and a Dense output layer with sigmoid activation\n",
    "- **Training:** Uses early stopping to prevent overfitting\n",
    "- **Output:** Saves the trained model to disk\n",
    "\n",
    "## Detailed Explanation of the Code\n",
    "\n",
    "1. **Data Loading:**\n",
    "   - The IMDB dataset is loaded with a vocabulary size limited to the top 10,000 most common words.\n",
    "   - Training and test data are split into reviews (`X_train`, `X_test`) and sentiment labels (`y_train`, `y_test`).\n",
    "\n",
    "2. **Data Inspection:**\n",
    "   - Prints the shapes of training and testing datasets.\n",
    "   - Prints a sample review (encoded as integers) and its corresponding label.\n",
    "   - Maps the integer-encoded review back to words for interpretability.\n",
    "\n",
    "3. **Preprocessing:**\n",
    "   - Reviews are padded or truncated to a fixed length (`max_len=500`) using `pad_sequences` so that all input sequences have the same length.\n",
    "\n",
    "4. **Model Building:**\n",
    "   - The model uses an Embedding layer to convert integer-encoded words into dense vectors of fixed size (128).\n",
    "   - A SimpleRNN layer with 128 units and ReLU activation processes the sequence data.\n",
    "   - A Dense layer with a sigmoid activation outputs the probability of the review being positive.\n",
    "\n",
    "5. **Compilation:**\n",
    "   - The model is compiled using the Adam optimizer and binary cross-entropy loss, tracking accuracy as a metric.\n",
    "\n",
    "6. **Training:**\n",
    "   - Uses 20% of the training data for validation.\n",
    "   - Implements EarlyStopping to stop training if validation loss doesn’t improve for 5 consecutive epochs and restores the best weights.\n",
    "   - Trains for up to 10 epochs, with batch size 32.\n",
    "\n",
    "7. **Saving the Model:**\n",
    "   - The trained model is saved to the file `simple_rnn_imdb.h5`."
   ],
   "id": "51dc92cda94ca7ff"
  },
  {
   "metadata": {
    "ExecuteTime": {
     "end_time": "2025-07-18T16:14:17.781717Z",
     "start_time": "2025-07-18T16:13:55.817367Z"
    }
   },
   "cell_type": "code",
   "source": [
    "import numpy as np\n",
    "import tensorflow as tf\n",
    "from tensorflow.keras.datasets import imdb\n",
    "from tensorflow.keras.preprocessing import sequence\n",
    "from tensorflow.keras.models import Sequential\n",
    "from tensorflow.keras.layers import Dense, Embedding, SimpleRNN"
   ],
   "id": "6a12a61570c645f1",
   "outputs": [],
   "execution_count": 1
  },
  {
   "metadata": {
    "ExecuteTime": {
     "end_time": "2025-07-18T16:14:24.329810Z",
     "start_time": "2025-07-18T16:14:17.783719Z"
    }
   },
   "cell_type": "code",
   "source": [
    "## load the imdb data set\n",
    "\n",
    "max_features = 10000 # vocabsize\n",
    "(X_train, y_train), (X_test, y_test) = imdb.load_data(num_words=max_features)"
   ],
   "id": "66817cf71ebc725c",
   "outputs": [],
   "execution_count": 2
  },
  {
   "metadata": {
    "ExecuteTime": {
     "end_time": "2025-07-18T16:14:24.343156Z",
     "start_time": "2025-07-18T16:14:24.331812Z"
    }
   },
   "cell_type": "code",
   "source": [
    "print((f'Training set: {X_train.shape}'), (f'Training label shape: {X_test.shape}'))\n",
    "print((f'Test set size: {X_test.shape[0]}'),(f'Testing label shape: {y_train.shape}'))"
   ],
   "id": "63002f77458ed06",
   "outputs": [
    {
     "name": "stdout",
     "output_type": "stream",
     "text": [
      "Training set: (25000,) Training label shape: (25000,)\n",
      "Test set size: 25000 Testing label shape: (25000,)\n"
     ]
    }
   ],
   "execution_count": 3
  },
  {
   "metadata": {
    "ExecuteTime": {
     "end_time": "2025-07-18T16:14:24.355369Z",
     "start_time": "2025-07-18T16:14:24.348206Z"
    }
   },
   "cell_type": "code",
   "source": [
    "## sample rewview and its label\n",
    "sample_review = X_train[0]\n",
    "sample_label = y_train[0]\n",
    "print(f\"Sample review: {sample_review}\")\n",
    "print(f\"Sample label: {sample_label}\")"
   ],
   "id": "44e32e46698ecccd",
   "outputs": [
    {
     "name": "stdout",
     "output_type": "stream",
     "text": [
      "Sample review: [1, 14, 22, 16, 43, 530, 973, 1622, 1385, 65, 458, 4468, 66, 3941, 4, 173, 36, 256, 5, 25, 100, 43, 838, 112, 50, 670, 2, 9, 35, 480, 284, 5, 150, 4, 172, 112, 167, 2, 336, 385, 39, 4, 172, 4536, 1111, 17, 546, 38, 13, 447, 4, 192, 50, 16, 6, 147, 2025, 19, 14, 22, 4, 1920, 4613, 469, 4, 22, 71, 87, 12, 16, 43, 530, 38, 76, 15, 13, 1247, 4, 22, 17, 515, 17, 12, 16, 626, 18, 2, 5, 62, 386, 12, 8, 316, 8, 106, 5, 4, 2223, 5244, 16, 480, 66, 3785, 33, 4, 130, 12, 16, 38, 619, 5, 25, 124, 51, 36, 135, 48, 25, 1415, 33, 6, 22, 12, 215, 28, 77, 52, 5, 14, 407, 16, 82, 2, 8, 4, 107, 117, 5952, 15, 256, 4, 2, 7, 3766, 5, 723, 36, 71, 43, 530, 476, 26, 400, 317, 46, 7, 4, 2, 1029, 13, 104, 88, 4, 381, 15, 297, 98, 32, 2071, 56, 26, 141, 6, 194, 7486, 18, 4, 226, 22, 21, 134, 476, 26, 480, 5, 144, 30, 5535, 18, 51, 36, 28, 224, 92, 25, 104, 4, 226, 65, 16, 38, 1334, 88, 12, 16, 283, 5, 16, 4472, 113, 103, 32, 15, 16, 5345, 19, 178, 32]\n",
      "Sample label: 1\n"
     ]
    }
   ],
   "execution_count": 4
  },
  {
   "metadata": {
    "ExecuteTime": {
     "end_time": "2025-07-18T16:14:24.489715Z",
     "start_time": "2025-07-18T16:14:24.358198Z"
    }
   },
   "cell_type": "code",
   "source": [
    "## mapping of words index bacl to words\n",
    "word_index = imdb.get_word_index()"
   ],
   "id": "7c405a43807c9ce",
   "outputs": [],
   "execution_count": 5
  },
  {
   "metadata": {
    "ExecuteTime": {
     "end_time": "2025-07-18T16:14:24.515828Z",
     "start_time": "2025-07-18T16:14:24.491717Z"
    }
   },
   "cell_type": "code",
   "source": "reverse_word_index = {value:key for key,value in word_index.items() }",
   "id": "85387f008037122",
   "outputs": [],
   "execution_count": 6
  },
  {
   "metadata": {
    "ExecuteTime": {
     "end_time": "2025-07-18T16:14:24.523425Z",
     "start_time": "2025-07-18T16:14:24.517831Z"
    }
   },
   "cell_type": "code",
   "source": "decoded_review = ' '.join([reverse_word_index.get(i-3,'?') for i in sample_review])",
   "id": "f1e3d0b126efcf77",
   "outputs": [],
   "execution_count": 7
  },
  {
   "metadata": {
    "ExecuteTime": {
     "end_time": "2025-07-18T16:14:25.781182Z",
     "start_time": "2025-07-18T16:14:24.525428Z"
    }
   },
   "cell_type": "code",
   "source": [
    "#padding \n",
    "max_len = 500\n",
    "X_train = sequence.pad_sequences(X_train, maxlen=max_len)\n",
    "X_test = sequence.pad_sequences(X_test, maxlen=max_len)"
   ],
   "id": "e77082c68dcb69f4",
   "outputs": [],
   "execution_count": 8
  },
  {
   "metadata": {
    "ExecuteTime": {
     "end_time": "2025-07-18T16:14:25.846501Z",
     "start_time": "2025-07-18T16:14:25.783176Z"
    }
   },
   "cell_type": "code",
   "source": [
    "## train Simple RNN\n",
    "model  = Sequential()\n",
    "model.add(Embedding(max_features, 128,input_length=max_len))\n",
    "model.add(SimpleRNN(128,activation='relu'))\n",
    "model.add(Dense(1,activation='sigmoid'))"
   ],
   "id": "ede56ba412f5bfde",
   "outputs": [
    {
     "name": "stderr",
     "output_type": "stream",
     "text": [
      "d:\\Projects\\GenAI_langchain_project\\venv\\Lib\\site-packages\\keras\\src\\layers\\core\\embedding.py:97: UserWarning: Argument `input_length` is deprecated. Just remove it.\n",
      "  warnings.warn(\n"
     ]
    }
   ],
   "execution_count": 9
  },
  {
   "metadata": {
    "ExecuteTime": {
     "end_time": "2025-07-18T16:14:25.856816Z",
     "start_time": "2025-07-18T16:14:25.849813Z"
    }
   },
   "cell_type": "code",
   "source": "#model.build(input_shape=(None, max_len))",
   "id": "7d166304ee11bbe6",
   "outputs": [],
   "execution_count": 10
  },
  {
   "metadata": {
    "ExecuteTime": {
     "end_time": "2025-07-18T16:14:26.970821Z",
     "start_time": "2025-07-18T16:14:26.938465Z"
    }
   },
   "cell_type": "code",
   "source": "model.summary()",
   "id": "d90b9dccfde7a646",
   "outputs": [
    {
     "data": {
      "text/plain": [
       "\u001B[1mModel: \"sequential\"\u001B[0m\n"
      ],
      "text/html": [
       "<pre style=\"white-space:pre;overflow-x:auto;line-height:normal;font-family:Menlo,'DejaVu Sans Mono',consolas,'Courier New',monospace\"><span style=\"font-weight: bold\">Model: \"sequential\"</span>\n",
       "</pre>\n"
      ]
     },
     "metadata": {},
     "output_type": "display_data"
    },
    {
     "data": {
      "text/plain": [
       "┏━━━━━━━━━━━━━━━━━━━━━━━━━━━━━━━━━┳━━━━━━━━━━━━━━━━━━━━━━━━┳━━━━━━━━━━━━━━━┓\n",
       "┃\u001B[1m \u001B[0m\u001B[1mLayer (type)                   \u001B[0m\u001B[1m \u001B[0m┃\u001B[1m \u001B[0m\u001B[1mOutput Shape          \u001B[0m\u001B[1m \u001B[0m┃\u001B[1m \u001B[0m\u001B[1m      Param #\u001B[0m\u001B[1m \u001B[0m┃\n",
       "┡━━━━━━━━━━━━━━━━━━━━━━━━━━━━━━━━━╇━━━━━━━━━━━━━━━━━━━━━━━━╇━━━━━━━━━━━━━━━┩\n",
       "│ embedding (\u001B[38;5;33mEmbedding\u001B[0m)           │ ?                      │   \u001B[38;5;34m0\u001B[0m (unbuilt) │\n",
       "├─────────────────────────────────┼────────────────────────┼───────────────┤\n",
       "│ simple_rnn (\u001B[38;5;33mSimpleRNN\u001B[0m)          │ ?                      │   \u001B[38;5;34m0\u001B[0m (unbuilt) │\n",
       "├─────────────────────────────────┼────────────────────────┼───────────────┤\n",
       "│ dense (\u001B[38;5;33mDense\u001B[0m)                   │ ?                      │   \u001B[38;5;34m0\u001B[0m (unbuilt) │\n",
       "└─────────────────────────────────┴────────────────────────┴───────────────┘\n"
      ],
      "text/html": [
       "<pre style=\"white-space:pre;overflow-x:auto;line-height:normal;font-family:Menlo,'DejaVu Sans Mono',consolas,'Courier New',monospace\">┏━━━━━━━━━━━━━━━━━━━━━━━━━━━━━━━━━┳━━━━━━━━━━━━━━━━━━━━━━━━┳━━━━━━━━━━━━━━━┓\n",
       "┃<span style=\"font-weight: bold\"> Layer (type)                    </span>┃<span style=\"font-weight: bold\"> Output Shape           </span>┃<span style=\"font-weight: bold\">       Param # </span>┃\n",
       "┡━━━━━━━━━━━━━━━━━━━━━━━━━━━━━━━━━╇━━━━━━━━━━━━━━━━━━━━━━━━╇━━━━━━━━━━━━━━━┩\n",
       "│ embedding (<span style=\"color: #0087ff; text-decoration-color: #0087ff\">Embedding</span>)           │ ?                      │   <span style=\"color: #00af00; text-decoration-color: #00af00\">0</span> (unbuilt) │\n",
       "├─────────────────────────────────┼────────────────────────┼───────────────┤\n",
       "│ simple_rnn (<span style=\"color: #0087ff; text-decoration-color: #0087ff\">SimpleRNN</span>)          │ ?                      │   <span style=\"color: #00af00; text-decoration-color: #00af00\">0</span> (unbuilt) │\n",
       "├─────────────────────────────────┼────────────────────────┼───────────────┤\n",
       "│ dense (<span style=\"color: #0087ff; text-decoration-color: #0087ff\">Dense</span>)                   │ ?                      │   <span style=\"color: #00af00; text-decoration-color: #00af00\">0</span> (unbuilt) │\n",
       "└─────────────────────────────────┴────────────────────────┴───────────────┘\n",
       "</pre>\n"
      ]
     },
     "metadata": {},
     "output_type": "display_data"
    },
    {
     "data": {
      "text/plain": [
       "\u001B[1m Total params: \u001B[0m\u001B[38;5;34m0\u001B[0m (0.00 B)\n"
      ],
      "text/html": [
       "<pre style=\"white-space:pre;overflow-x:auto;line-height:normal;font-family:Menlo,'DejaVu Sans Mono',consolas,'Courier New',monospace\"><span style=\"font-weight: bold\"> Total params: </span><span style=\"color: #00af00; text-decoration-color: #00af00\">0</span> (0.00 B)\n",
       "</pre>\n"
      ]
     },
     "metadata": {},
     "output_type": "display_data"
    },
    {
     "data": {
      "text/plain": [
       "\u001B[1m Trainable params: \u001B[0m\u001B[38;5;34m0\u001B[0m (0.00 B)\n"
      ],
      "text/html": [
       "<pre style=\"white-space:pre;overflow-x:auto;line-height:normal;font-family:Menlo,'DejaVu Sans Mono',consolas,'Courier New',monospace\"><span style=\"font-weight: bold\"> Trainable params: </span><span style=\"color: #00af00; text-decoration-color: #00af00\">0</span> (0.00 B)\n",
       "</pre>\n"
      ]
     },
     "metadata": {},
     "output_type": "display_data"
    },
    {
     "data": {
      "text/plain": [
       "\u001B[1m Non-trainable params: \u001B[0m\u001B[38;5;34m0\u001B[0m (0.00 B)\n"
      ],
      "text/html": [
       "<pre style=\"white-space:pre;overflow-x:auto;line-height:normal;font-family:Menlo,'DejaVu Sans Mono',consolas,'Courier New',monospace\"><span style=\"font-weight: bold\"> Non-trainable params: </span><span style=\"color: #00af00; text-decoration-color: #00af00\">0</span> (0.00 B)\n",
       "</pre>\n"
      ]
     },
     "metadata": {},
     "output_type": "display_data"
    }
   ],
   "execution_count": 11
  },
  {
   "metadata": {
    "ExecuteTime": {
     "end_time": "2025-07-18T16:14:29.248468Z",
     "start_time": "2025-07-18T16:14:29.243347Z"
    }
   },
   "cell_type": "code",
   "source": [
    "## create an instance of early stopping Callback\n",
    "from tensorflow.keras.callbacks import EarlyStopping"
   ],
   "id": "d8d366e55fdafed4",
   "outputs": [],
   "execution_count": 12
  },
  {
   "metadata": {
    "ExecuteTime": {
     "end_time": "2025-07-18T16:14:32.874760Z",
     "start_time": "2025-07-18T16:14:32.867346Z"
    }
   },
   "cell_type": "code",
   "source": [
    "earlystopping = EarlyStopping(monitor='val_loss', patience=5, restore_best_weights=True)\n",
    "earlystopping"
   ],
   "id": "4155962483c445ed",
   "outputs": [
    {
     "data": {
      "text/plain": [
       "<keras.src.callbacks.early_stopping.EarlyStopping at 0x1ab0933fbc0>"
      ]
     },
     "execution_count": 13,
     "metadata": {},
     "output_type": "execute_result"
    }
   ],
   "execution_count": 13
  },
  {
   "metadata": {
    "ExecuteTime": {
     "end_time": "2025-07-05T20:09:26.048258Z",
     "start_time": "2025-07-05T20:02:22.483317Z"
    }
   },
   "cell_type": "code",
   "source": [
    "## TRAIN THE MODEL\n",
    "model.compile(optimizer='adam', loss='binary_crossentropy', metrics=['accuracy'])\n",
    "history = model.fit(\n",
    "    X_train,y_train,epochs=10,batch_size = 32,validation_split=0.2,callbacks=[earlystopping]\n",
    ")"
   ],
   "id": "10387a6c233fed03",
   "outputs": [
    {
     "name": "stdout",
     "output_type": "stream",
     "text": [
      "Epoch 1/10\n",
      "\u001B[1m625/625\u001B[0m \u001B[32m━━━━━━━━━━━━━━━━━━━━\u001B[0m\u001B[37m\u001B[0m \u001B[1m50s\u001B[0m 78ms/step - accuracy: 0.5827 - loss: 89.9680 - val_accuracy: 0.6620 - val_loss: 0.6147\n",
      "Epoch 2/10\n",
      "\u001B[1m625/625\u001B[0m \u001B[32m━━━━━━━━━━━━━━━━━━━━\u001B[0m\u001B[37m\u001B[0m \u001B[1m49s\u001B[0m 78ms/step - accuracy: 0.7570 - loss: 0.5146 - val_accuracy: 0.8012 - val_loss: 0.4421\n",
      "Epoch 3/10\n",
      "\u001B[1m625/625\u001B[0m \u001B[32m━━━━━━━━━━━━━━━━━━━━\u001B[0m\u001B[37m\u001B[0m \u001B[1m45s\u001B[0m 73ms/step - accuracy: 0.8577 - loss: 0.3558 - val_accuracy: 0.8122 - val_loss: 0.4285\n",
      "Epoch 4/10\n",
      "\u001B[1m625/625\u001B[0m \u001B[32m━━━━━━━━━━━━━━━━━━━━\u001B[0m\u001B[37m\u001B[0m \u001B[1m46s\u001B[0m 73ms/step - accuracy: 0.9072 - loss: 0.2343 - val_accuracy: 0.8360 - val_loss: 0.4125\n",
      "Epoch 5/10\n",
      "\u001B[1m625/625\u001B[0m \u001B[32m━━━━━━━━━━━━━━━━━━━━\u001B[0m\u001B[37m\u001B[0m \u001B[1m44s\u001B[0m 71ms/step - accuracy: 0.9349 - loss: 0.1708 - val_accuracy: 0.8248 - val_loss: 0.4457\n",
      "Epoch 6/10\n",
      "\u001B[1m625/625\u001B[0m \u001B[32m━━━━━━━━━━━━━━━━━━━━\u001B[0m\u001B[37m\u001B[0m \u001B[1m44s\u001B[0m 70ms/step - accuracy: 0.9587 - loss: 0.1157 - val_accuracy: 0.8210 - val_loss: 0.4847\n",
      "Epoch 7/10\n",
      "\u001B[1m625/625\u001B[0m \u001B[32m━━━━━━━━━━━━━━━━━━━━\u001B[0m\u001B[37m\u001B[0m \u001B[1m47s\u001B[0m 75ms/step - accuracy: 0.9590 - loss: 0.1121 - val_accuracy: 0.8030 - val_loss: 0.5734\n",
      "Epoch 8/10\n",
      "\u001B[1m625/625\u001B[0m \u001B[32m━━━━━━━━━━━━━━━━━━━━\u001B[0m\u001B[37m\u001B[0m \u001B[1m49s\u001B[0m 78ms/step - accuracy: 0.9662 - loss: 0.0940 - val_accuracy: 0.8406 - val_loss: 0.6442\n",
      "Epoch 9/10\n",
      "\u001B[1m625/625\u001B[0m \u001B[32m━━━━━━━━━━━━━━━━━━━━\u001B[0m\u001B[37m\u001B[0m \u001B[1m50s\u001B[0m 79ms/step - accuracy: 0.9431 - loss: 0.1597 - val_accuracy: 0.8304 - val_loss: 0.6458\n"
     ]
    }
   ],
   "execution_count": 16
  },
  {
   "metadata": {
    "ExecuteTime": {
     "end_time": "2025-07-05T20:09:26.219398Z",
     "start_time": "2025-07-05T20:09:26.154692Z"
    }
   },
   "cell_type": "code",
   "source": "model.save('Simple_rnn_imdb.h5')",
   "id": "33be6565d14171c3",
   "outputs": [
    {
     "name": "stderr",
     "output_type": "stream",
     "text": [
      "WARNING:absl:You are saving your model as an HDF5 file via `model.save()` or `keras.saving.save_model(model)`. This file format is considered legacy. We recommend using instead the native Keras format, e.g. `model.save('my_model.keras')` or `keras.saving.save_model(model, 'my_model.keras')`. \n"
     ]
    }
   ],
   "execution_count": 17
  }
 ],
 "metadata": {
  "kernelspec": {
   "display_name": "Python 3",
   "language": "python",
   "name": "python3"
  },
  "language_info": {
   "codemirror_mode": {
    "name": "ipython",
    "version": 2
   },
   "file_extension": ".py",
   "mimetype": "text/x-python",
   "name": "python",
   "nbconvert_exporter": "python",
   "pygments_lexer": "ipython2",
   "version": "2.7.6"
  }
 },
 "nbformat": 4,
 "nbformat_minor": 5
}
