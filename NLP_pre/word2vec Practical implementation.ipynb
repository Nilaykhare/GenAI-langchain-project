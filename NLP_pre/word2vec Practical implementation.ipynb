{
 "cells": [
  {
   "cell_type": "code",
   "id": "initial_id",
   "metadata": {
    "collapsed": true,
    "ExecuteTime": {
     "end_time": "2025-06-17T14:09:39.530395Z",
     "start_time": "2025-06-17T14:08:53.451021Z"
    }
   },
   "source": "!pip install gensim\n",
   "outputs": [
    {
     "name": "stdout",
     "output_type": "stream",
     "text": [
      "Collecting gensim\n",
      "  Downloading gensim-4.3.3-cp312-cp312-win_amd64.whl.metadata (8.2 kB)\n",
      "Collecting numpy<2.0,>=1.18.5 (from gensim)\n",
      "  Downloading numpy-1.26.4-cp312-cp312-win_amd64.whl.metadata (61 kB)\n",
      "Collecting scipy<1.14.0,>=1.7.0 (from gensim)\n",
      "  Downloading scipy-1.13.1-cp312-cp312-win_amd64.whl.metadata (60 kB)\n",
      "Collecting smart-open>=1.8.1 (from gensim)\n",
      "  Downloading smart_open-7.1.0-py3-none-any.whl.metadata (24 kB)\n",
      "Collecting wrapt (from smart-open>=1.8.1->gensim)\n",
      "  Downloading wrapt-1.17.2-cp312-cp312-win_amd64.whl.metadata (6.5 kB)\n",
      "Downloading gensim-4.3.3-cp312-cp312-win_amd64.whl (24.0 MB)\n",
      "   ---------------------------------------- 0.0/24.0 MB ? eta -:--:--\n",
      "   --- ------------------------------------ 2.4/24.0 MB 13.4 MB/s eta 0:00:02\n",
      "   ------- -------------------------------- 4.7/24.0 MB 11.9 MB/s eta 0:00:02\n",
      "   ------------ --------------------------- 7.6/24.0 MB 12.4 MB/s eta 0:00:02\n",
      "   ----------------- ---------------------- 10.5/24.0 MB 12.6 MB/s eta 0:00:02\n",
      "   --------------------- ------------------ 13.1/24.0 MB 12.7 MB/s eta 0:00:01\n",
      "   -------------------------- ------------- 16.0/24.0 MB 12.7 MB/s eta 0:00:01\n",
      "   ---------------------------- ----------- 17.3/24.0 MB 12.0 MB/s eta 0:00:01\n",
      "   --------------------------------- ------ 19.9/24.0 MB 12.0 MB/s eta 0:00:01\n",
      "   ------------------------------------- -- 22.8/24.0 MB 12.1 MB/s eta 0:00:01\n",
      "   ---------------------------------------- 24.0/24.0 MB 11.9 MB/s eta 0:00:00\n",
      "Downloading numpy-1.26.4-cp312-cp312-win_amd64.whl (15.5 MB)\n",
      "   ---------------------------------------- 0.0/15.5 MB ? eta -:--:--\n",
      "   ------ --------------------------------- 2.6/15.5 MB 13.8 MB/s eta 0:00:01\n",
      "   -------------- ------------------------- 5.5/15.5 MB 13.4 MB/s eta 0:00:01\n",
      "   -------------------- ------------------- 8.1/15.5 MB 13.3 MB/s eta 0:00:01\n",
      "   ---------------------------- ----------- 11.0/15.5 MB 13.2 MB/s eta 0:00:01\n",
      "   ------------------------------- -------- 12.1/15.5 MB 12.8 MB/s eta 0:00:01\n",
      "   ----------------------------------- ---- 13.6/15.5 MB 10.8 MB/s eta 0:00:01\n",
      "   ----------------------------------- ---- 13.9/15.5 MB 10.6 MB/s eta 0:00:01\n",
      "   -------------------------------------- - 14.9/15.5 MB 9.0 MB/s eta 0:00:01\n",
      "   ---------------------------------------- 15.5/15.5 MB 8.4 MB/s eta 0:00:00\n",
      "Downloading scipy-1.13.1-cp312-cp312-win_amd64.whl (45.9 MB)\n",
      "   ---------------------------------------- 0.0/45.9 MB ? eta -:--:--\n",
      "    --------------------------------------- 0.8/45.9 MB 4.8 MB/s eta 0:00:10\n",
      "   - -------------------------------------- 1.6/45.9 MB 4.2 MB/s eta 0:00:11\n",
      "   -- ------------------------------------- 2.6/45.9 MB 4.3 MB/s eta 0:00:11\n",
      "   --- ------------------------------------ 4.5/45.9 MB 5.5 MB/s eta 0:00:08\n",
      "   ----- ---------------------------------- 6.6/45.9 MB 6.4 MB/s eta 0:00:07\n",
      "   ------- -------------------------------- 8.7/45.9 MB 7.0 MB/s eta 0:00:06\n",
      "   --------- ------------------------------ 10.5/45.9 MB 7.3 MB/s eta 0:00:05\n",
      "   ---------- ----------------------------- 12.3/45.9 MB 7.6 MB/s eta 0:00:05\n",
      "   ------------ --------------------------- 13.9/45.9 MB 7.5 MB/s eta 0:00:05\n",
      "   ------------- -------------------------- 15.5/45.9 MB 7.4 MB/s eta 0:00:05\n",
      "   --------------- ------------------------ 17.3/45.9 MB 7.5 MB/s eta 0:00:04\n",
      "   ---------------- ----------------------- 18.9/45.9 MB 7.5 MB/s eta 0:00:04\n",
      "   ----------------- ---------------------- 20.4/45.9 MB 7.5 MB/s eta 0:00:04\n",
      "   ------------------- -------------------- 22.3/45.9 MB 7.6 MB/s eta 0:00:04\n",
      "   --------------------- ------------------ 24.1/45.9 MB 7.6 MB/s eta 0:00:03\n",
      "   ---------------------- ----------------- 25.7/45.9 MB 7.7 MB/s eta 0:00:03\n",
      "   ----------------------- ---------------- 27.5/45.9 MB 7.7 MB/s eta 0:00:03\n",
      "   ------------------------- -------------- 29.6/45.9 MB 7.8 MB/s eta 0:00:03\n",
      "   --------------------------- ------------ 31.7/45.9 MB 7.9 MB/s eta 0:00:02\n",
      "   ----------------------------- ---------- 33.6/45.9 MB 7.9 MB/s eta 0:00:02\n",
      "   ------------------------------ --------- 34.6/45.9 MB 7.8 MB/s eta 0:00:02\n",
      "   ------------------------------- -------- 36.2/45.9 MB 7.8 MB/s eta 0:00:02\n",
      "   -------------------------------- ------- 37.7/45.9 MB 7.8 MB/s eta 0:00:02\n",
      "   ---------------------------------- ----- 39.6/45.9 MB 7.8 MB/s eta 0:00:01\n",
      "   ----------------------------------- ---- 40.6/45.9 MB 7.7 MB/s eta 0:00:01\n",
      "   ------------------------------------ --- 41.9/45.9 MB 7.6 MB/s eta 0:00:01\n",
      "   -------------------------------------- - 43.8/45.9 MB 7.6 MB/s eta 0:00:01\n",
      "   ---------------------------------------  45.4/45.9 MB 7.6 MB/s eta 0:00:01\n",
      "   ---------------------------------------  45.9/45.9 MB 7.6 MB/s eta 0:00:01\n",
      "   ---------------------------------------- 45.9/45.9 MB 7.3 MB/s eta 0:00:00\n",
      "Downloading smart_open-7.1.0-py3-none-any.whl (61 kB)\n",
      "Downloading wrapt-1.17.2-cp312-cp312-win_amd64.whl (38 kB)\n",
      "Installing collected packages: wrapt, numpy, smart-open, scipy, gensim\n",
      "  Attempting uninstall: numpy\n",
      "    Found existing installation: numpy 2.2.4\n",
      "    Uninstalling numpy-2.2.4:\n",
      "      Successfully uninstalled numpy-2.2.4\n",
      "  Attempting uninstall: scipy\n",
      "    Found existing installation: scipy 1.15.2\n",
      "    Uninstalling scipy-1.15.2:\n",
      "      Successfully uninstalled scipy-1.15.2\n",
      "Successfully installed gensim-4.3.3 numpy-1.26.4 scipy-1.13.1 smart-open-7.1.0 wrapt-1.17.2\n"
     ]
    }
   ],
   "execution_count": 1
  },
  {
   "metadata": {
    "ExecuteTime": {
     "end_time": "2025-06-17T14:10:25.398365Z",
     "start_time": "2025-06-17T14:10:25.395012Z"
    }
   },
   "cell_type": "code",
   "source": "import gensim",
   "id": "5f83b4465b5373d3",
   "outputs": [],
   "execution_count": 3
  },
  {
   "metadata": {
    "ExecuteTime": {
     "end_time": "2025-06-17T14:10:42.588806Z",
     "start_time": "2025-06-17T14:10:42.585188Z"
    }
   },
   "cell_type": "code",
   "source": "from gensim.models import Word2Vec, KeyedVectors",
   "id": "424506744f22510e",
   "outputs": [],
   "execution_count": 4
  },
  {
   "metadata": {
    "ExecuteTime": {
     "end_time": "2025-06-17T14:25:24.009013Z",
     "start_time": "2025-06-17T14:12:05.373693Z"
    }
   },
   "cell_type": "code",
   "source": [
    "import gensim.downloader as api \n",
    "wv = api.load('word2vec-google-news-300')\n",
    "vec_king = wv['king']"
   ],
   "id": "70803b3e2c92072",
   "outputs": [
    {
     "name": "stdout",
     "output_type": "stream",
     "text": [
      "[--------------------------------------------------] 1.4% 23.4/1662.8MB downloaded"
     ]
    },
    {
     "name": "stderr",
     "output_type": "stream",
     "text": [
      "IOPub message rate exceeded.\n",
      "The Jupyter server will temporarily stop sending output\n",
      "to the client in order to avoid crashing it.\n",
      "To change this limit, set the config variable\n",
      "`--ServerApp.iopub_msg_rate_limit`.\n",
      "\n",
      "Current values:\n",
      "ServerApp.iopub_msg_rate_limit=1000.0 (msgs/sec)\n",
      "ServerApp.rate_limit_window=3.0 (secs)\n",
      "\n"
     ]
    },
    {
     "name": "stdout",
     "output_type": "stream",
     "text": [
      "[==------------------------------------------------] 5.6% 93.6/1662.8MB downloaded"
     ]
    },
    {
     "name": "stderr",
     "output_type": "stream",
     "text": [
      "IOPub message rate exceeded.\n",
      "The Jupyter server will temporarily stop sending output\n",
      "to the client in order to avoid crashing it.\n",
      "To change this limit, set the config variable\n",
      "`--ServerApp.iopub_msg_rate_limit`.\n",
      "\n",
      "Current values:\n",
      "ServerApp.iopub_msg_rate_limit=1000.0 (msgs/sec)\n",
      "ServerApp.rate_limit_window=3.0 (secs)\n",
      "\n"
     ]
    },
    {
     "name": "stdout",
     "output_type": "stream",
     "text": [
      "[===-----------------------------------------------] 7.4% 123.2/1662.8MB downloaded"
     ]
    },
    {
     "name": "stderr",
     "output_type": "stream",
     "text": [
      "IOPub message rate exceeded.\n",
      "The Jupyter server will temporarily stop sending output\n",
      "to the client in order to avoid crashing it.\n",
      "To change this limit, set the config variable\n",
      "`--ServerApp.iopub_msg_rate_limit`.\n",
      "\n",
      "Current values:\n",
      "ServerApp.iopub_msg_rate_limit=1000.0 (msgs/sec)\n",
      "ServerApp.rate_limit_window=3.0 (secs)\n",
      "\n"
     ]
    },
    {
     "name": "stdout",
     "output_type": "stream",
     "text": [
      "[==================================================] 100.0% 1662.8/1662.8MB downloaded\n"
     ]
    }
   ],
   "execution_count": 5
  },
  {
   "metadata": {},
   "cell_type": "code",
   "outputs": [],
   "execution_count": null,
   "source": "",
   "id": "dd6f841870f152b8"
  }
 ],
 "metadata": {
  "kernelspec": {
   "display_name": "Python 3",
   "language": "python",
   "name": "python3"
  },
  "language_info": {
   "codemirror_mode": {
    "name": "ipython",
    "version": 2
   },
   "file_extension": ".py",
   "mimetype": "text/x-python",
   "name": "python",
   "nbconvert_exporter": "python",
   "pygments_lexer": "ipython2",
   "version": "2.7.6"
  }
 },
 "nbformat": 4,
 "nbformat_minor": 5
}
