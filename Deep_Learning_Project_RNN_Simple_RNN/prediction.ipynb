{
 "cells": [
  {
   "cell_type": "code",
   "id": "initial_id",
   "metadata": {
    "collapsed": true,
    "ExecuteTime": {
     "end_time": "2025-07-05T20:05:10.348216Z",
     "start_time": "2025-07-05T20:05:01.540566Z"
    }
   },
   "source": [
    "import numpy as np\n",
    "import tensorflow as tf\n",
    "from tensorflow.keras.datasets import imdb\n",
    "from tensorflow.keras.preprocessing import sequence\n",
    "from tensorflow.keras.models import load_model"
   ],
   "outputs": [],
   "execution_count": 1
  },
  {
   "metadata": {
    "ExecuteTime": {
     "end_time": "2025-07-05T20:05:32.409591Z",
     "start_time": "2025-07-05T20:05:32.328789Z"
    }
   },
   "cell_type": "code",
   "source": [
    "word_index = imdb.get_word_index()\n",
    "reverse_word_index = {value: key for key, value in word_index.items()}"
   ],
   "id": "151607cf2cd87203",
   "outputs": [],
   "execution_count": 2
  },
  {
   "metadata": {
    "ExecuteTime": {
     "end_time": "2025-07-05T20:09:34.722697Z",
     "start_time": "2025-07-05T20:09:34.595123Z"
    }
   },
   "cell_type": "code",
   "source": [
    "#load the pre trained model\n",
    "model = load_model('Simple_rnn_imdb.h5')"
   ],
   "id": "da2a0900ae6a2b96",
   "outputs": [
    {
     "name": "stderr",
     "output_type": "stream",
     "text": [
      "WARNING:absl:Compiled the loaded model, but the compiled metrics have yet to be built. `model.compile_metrics` will be empty until you train or evaluate the model.\n"
     ]
    }
   ],
   "execution_count": 5
  },
  {
   "metadata": {
    "ExecuteTime": {
     "end_time": "2025-07-05T20:09:36.541183Z",
     "start_time": "2025-07-05T20:09:36.522105Z"
    }
   },
   "cell_type": "code",
   "source": "model.summary()",
   "id": "522c48dd76a5b9b0",
   "outputs": [
    {
     "data": {
      "text/plain": [
       "\u001B[1mModel: \"sequential\"\u001B[0m\n"
      ],
      "text/html": [
       "<pre style=\"white-space:pre;overflow-x:auto;line-height:normal;font-family:Menlo,'DejaVu Sans Mono',consolas,'Courier New',monospace\"><span style=\"font-weight: bold\">Model: \"sequential\"</span>\n",
       "</pre>\n"
      ]
     },
     "metadata": {},
     "output_type": "display_data"
    },
    {
     "data": {
      "text/plain": [
       "┏━━━━━━━━━━━━━━━━━━━━━━━━━━━━━━━━━┳━━━━━━━━━━━━━━━━━━━━━━━━┳━━━━━━━━━━━━━━━┓\n",
       "┃\u001B[1m \u001B[0m\u001B[1mLayer (type)                   \u001B[0m\u001B[1m \u001B[0m┃\u001B[1m \u001B[0m\u001B[1mOutput Shape          \u001B[0m\u001B[1m \u001B[0m┃\u001B[1m \u001B[0m\u001B[1m      Param #\u001B[0m\u001B[1m \u001B[0m┃\n",
       "┡━━━━━━━━━━━━━━━━━━━━━━━━━━━━━━━━━╇━━━━━━━━━━━━━━━━━━━━━━━━╇━━━━━━━━━━━━━━━┩\n",
       "│ embedding (\u001B[38;5;33mEmbedding\u001B[0m)           │ (\u001B[38;5;34m32\u001B[0m, \u001B[38;5;34m500\u001B[0m, \u001B[38;5;34m128\u001B[0m)         │     \u001B[38;5;34m1,280,000\u001B[0m │\n",
       "├─────────────────────────────────┼────────────────────────┼───────────────┤\n",
       "│ simple_rnn (\u001B[38;5;33mSimpleRNN\u001B[0m)          │ (\u001B[38;5;34m32\u001B[0m, \u001B[38;5;34m128\u001B[0m)              │        \u001B[38;5;34m32,896\u001B[0m │\n",
       "├─────────────────────────────────┼────────────────────────┼───────────────┤\n",
       "│ dense (\u001B[38;5;33mDense\u001B[0m)                   │ (\u001B[38;5;34m32\u001B[0m, \u001B[38;5;34m1\u001B[0m)                │           \u001B[38;5;34m129\u001B[0m │\n",
       "└─────────────────────────────────┴────────────────────────┴───────────────┘\n"
      ],
      "text/html": [
       "<pre style=\"white-space:pre;overflow-x:auto;line-height:normal;font-family:Menlo,'DejaVu Sans Mono',consolas,'Courier New',monospace\">┏━━━━━━━━━━━━━━━━━━━━━━━━━━━━━━━━━┳━━━━━━━━━━━━━━━━━━━━━━━━┳━━━━━━━━━━━━━━━┓\n",
       "┃<span style=\"font-weight: bold\"> Layer (type)                    </span>┃<span style=\"font-weight: bold\"> Output Shape           </span>┃<span style=\"font-weight: bold\">       Param # </span>┃\n",
       "┡━━━━━━━━━━━━━━━━━━━━━━━━━━━━━━━━━╇━━━━━━━━━━━━━━━━━━━━━━━━╇━━━━━━━━━━━━━━━┩\n",
       "│ embedding (<span style=\"color: #0087ff; text-decoration-color: #0087ff\">Embedding</span>)           │ (<span style=\"color: #00af00; text-decoration-color: #00af00\">32</span>, <span style=\"color: #00af00; text-decoration-color: #00af00\">500</span>, <span style=\"color: #00af00; text-decoration-color: #00af00\">128</span>)         │     <span style=\"color: #00af00; text-decoration-color: #00af00\">1,280,000</span> │\n",
       "├─────────────────────────────────┼────────────────────────┼───────────────┤\n",
       "│ simple_rnn (<span style=\"color: #0087ff; text-decoration-color: #0087ff\">SimpleRNN</span>)          │ (<span style=\"color: #00af00; text-decoration-color: #00af00\">32</span>, <span style=\"color: #00af00; text-decoration-color: #00af00\">128</span>)              │        <span style=\"color: #00af00; text-decoration-color: #00af00\">32,896</span> │\n",
       "├─────────────────────────────────┼────────────────────────┼───────────────┤\n",
       "│ dense (<span style=\"color: #0087ff; text-decoration-color: #0087ff\">Dense</span>)                   │ (<span style=\"color: #00af00; text-decoration-color: #00af00\">32</span>, <span style=\"color: #00af00; text-decoration-color: #00af00\">1</span>)                │           <span style=\"color: #00af00; text-decoration-color: #00af00\">129</span> │\n",
       "└─────────────────────────────────┴────────────────────────┴───────────────┘\n",
       "</pre>\n"
      ]
     },
     "metadata": {},
     "output_type": "display_data"
    },
    {
     "data": {
      "text/plain": [
       "\u001B[1m Total params: \u001B[0m\u001B[38;5;34m1,313,027\u001B[0m (5.01 MB)\n"
      ],
      "text/html": [
       "<pre style=\"white-space:pre;overflow-x:auto;line-height:normal;font-family:Menlo,'DejaVu Sans Mono',consolas,'Courier New',monospace\"><span style=\"font-weight: bold\"> Total params: </span><span style=\"color: #00af00; text-decoration-color: #00af00\">1,313,027</span> (5.01 MB)\n",
       "</pre>\n"
      ]
     },
     "metadata": {},
     "output_type": "display_data"
    },
    {
     "data": {
      "text/plain": [
       "\u001B[1m Trainable params: \u001B[0m\u001B[38;5;34m1,313,025\u001B[0m (5.01 MB)\n"
      ],
      "text/html": [
       "<pre style=\"white-space:pre;overflow-x:auto;line-height:normal;font-family:Menlo,'DejaVu Sans Mono',consolas,'Courier New',monospace\"><span style=\"font-weight: bold\"> Trainable params: </span><span style=\"color: #00af00; text-decoration-color: #00af00\">1,313,025</span> (5.01 MB)\n",
       "</pre>\n"
      ]
     },
     "metadata": {},
     "output_type": "display_data"
    },
    {
     "data": {
      "text/plain": [
       "\u001B[1m Non-trainable params: \u001B[0m\u001B[38;5;34m0\u001B[0m (0.00 B)\n"
      ],
      "text/html": [
       "<pre style=\"white-space:pre;overflow-x:auto;line-height:normal;font-family:Menlo,'DejaVu Sans Mono',consolas,'Courier New',monospace\"><span style=\"font-weight: bold\"> Non-trainable params: </span><span style=\"color: #00af00; text-decoration-color: #00af00\">0</span> (0.00 B)\n",
       "</pre>\n"
      ]
     },
     "metadata": {},
     "output_type": "display_data"
    },
    {
     "data": {
      "text/plain": [
       "\u001B[1m Optimizer params: \u001B[0m\u001B[38;5;34m2\u001B[0m (12.00 B)\n"
      ],
      "text/html": [
       "<pre style=\"white-space:pre;overflow-x:auto;line-height:normal;font-family:Menlo,'DejaVu Sans Mono',consolas,'Courier New',monospace\"><span style=\"font-weight: bold\"> Optimizer params: </span><span style=\"color: #00af00; text-decoration-color: #00af00\">2</span> (12.00 B)\n",
       "</pre>\n"
      ]
     },
     "metadata": {},
     "output_type": "display_data"
    }
   ],
   "execution_count": 6
  },
  {
   "metadata": {
    "ExecuteTime": {
     "end_time": "2025-07-05T20:09:41.454166Z",
     "start_time": "2025-07-05T20:09:41.432928Z"
    }
   },
   "cell_type": "code",
   "source": "model.get_weights()",
   "id": "b52c3a4e1878319e",
   "outputs": [
    {
     "data": {
      "text/plain": [
       "[array([[-0.6297855 , -0.595779  ,  0.7025049 , ...,  0.655956  ,\n",
       "          0.50955886,  0.6619702 ],\n",
       "        [-0.03045012,  0.00646125,  0.046734  , ...,  0.02820614,\n",
       "          0.03802101,  0.02242695],\n",
       "        [-0.04940901, -0.05243899,  0.04804102, ..., -0.09642592,\n",
       "         -0.01853934,  0.08140457],\n",
       "        ...,\n",
       "        [-0.0225411 ,  0.03866475, -0.09509613, ...,  0.00288731,\n",
       "         -0.05997557, -0.04294154],\n",
       "        [-0.0099562 , -0.03578955,  0.01633701, ...,  0.02816428,\n",
       "         -0.02518026,  0.04788834],\n",
       "        [-0.05606167,  0.06010407, -0.08341009, ...,  0.04259861,\n",
       "         -0.06118326, -0.05848306]], dtype=float32),\n",
       " array([[ 0.02548398, -0.15182608,  0.07686079, ...,  0.15055147,\n",
       "         -0.06392404, -0.08350454],\n",
       "        [-0.08723305, -0.08708948,  0.04765899, ..., -0.00140947,\n",
       "         -0.02854106, -0.01800104],\n",
       "        [-0.1289226 ,  0.0646294 , -0.08923481, ...,  0.07089396,\n",
       "          0.09364064,  0.15538709],\n",
       "        ...,\n",
       "        [ 0.09187102, -0.08597043, -0.04865413, ..., -0.04310716,\n",
       "          0.04841012,  0.09892416],\n",
       "        [ 0.13769355, -0.05647762,  0.06761611, ...,  0.04270483,\n",
       "          0.05064249,  0.06958086],\n",
       "        [-0.10360444,  0.06624722, -0.09149311, ..., -0.10216229,\n",
       "         -0.04170473, -0.00143892]], dtype=float32),\n",
       " array([[-0.18741281, -0.0317033 ,  0.00138941, ..., -0.18466158,\n",
       "          0.0740056 , -0.00277509],\n",
       "        [-0.07522412,  0.05941963, -0.23207581, ..., -0.03250476,\n",
       "          0.01013201,  0.01793221],\n",
       "        [ 0.09122843,  0.12483024, -0.08677851, ..., -0.18943207,\n",
       "          0.03870031, -0.01782377],\n",
       "        ...,\n",
       "        [ 0.02784098,  0.11592044, -0.0647333 , ...,  0.04417098,\n",
       "          0.07471906, -0.04923234],\n",
       "        [-0.05618984,  0.05680586, -0.05555307, ...,  0.03378437,\n",
       "         -0.01469693, -0.01653758],\n",
       "        [-0.13118252,  0.09846441, -0.04127098, ..., -0.00323698,\n",
       "          0.0845893 , -0.15256777]], dtype=float32),\n",
       " array([-0.03216483,  0.01043968, -0.0109695 ,  0.0155582 ,  0.05254395,\n",
       "        -0.025188  , -0.02120245, -0.0231063 ,  0.04540643, -0.02321176,\n",
       "         0.03903131, -0.03189017, -0.03920132,  0.02344999,  0.09210753,\n",
       "         0.00348377, -0.02543815,  0.00765937,  0.01540007, -0.03356877,\n",
       "        -0.03702901,  0.00847523, -0.02441478, -0.01491701, -0.01178691,\n",
       "        -0.00903577, -0.03225416, -0.01182489, -0.03907778, -0.038575  ,\n",
       "        -0.03802093, -0.02958854, -0.02737317,  0.01571785, -0.01620949,\n",
       "        -0.04667614,  0.01425102, -0.02165896, -0.01670875, -0.00921073,\n",
       "        -0.03878931, -0.03046994, -0.05200404,  0.01861788, -0.00977996,\n",
       "        -0.03564005, -0.02317233,  0.01494368,  0.01338817,  0.03727617,\n",
       "         0.011044  , -0.00991142,  0.012139  , -0.01531858, -0.02450201,\n",
       "        -0.0276942 , -0.00345952, -0.03244222,  0.01518631,  0.00684206,\n",
       "        -0.01181848, -0.04836253, -0.03681589, -0.00421536, -0.0200677 ,\n",
       "         0.00617389, -0.01558544, -0.03795554,  0.00348971, -0.03796235,\n",
       "        -0.04580209, -0.02292669, -0.01788362, -0.0306045 , -0.02446055,\n",
       "         0.02182162,  0.01789487, -0.01863424, -0.0305406 ,  0.00470884,\n",
       "         0.07575681, -0.00685846, -0.05023483, -0.00326339, -0.03431493,\n",
       "        -0.0385799 , -0.03463055,  0.00519992,  0.00778664, -0.00758972,\n",
       "        -0.01265676, -0.05521417, -0.01561918, -0.03566024, -0.04812522,\n",
       "        -0.04666758, -0.02891808, -0.00762216, -0.01795712,  0.00772303,\n",
       "        -0.00378353,  0.05169312,  0.01203993,  0.00826089, -0.03572656,\n",
       "         0.01477197, -0.0237734 ,  0.01870926, -0.01426878,  0.00177462,\n",
       "        -0.0291769 , -0.00031639,  0.01786903, -0.03973014, -0.04145182,\n",
       "        -0.04298105, -0.00295669, -0.03651659,  0.0060689 , -0.02950794,\n",
       "         0.01193646,  0.01084208,  0.04457488, -0.03793858, -0.00678559,\n",
       "        -0.02561812, -0.02006575, -0.02070692], dtype=float32),\n",
       " array([[ 0.00467283],\n",
       "        [-0.15122668],\n",
       "        [-0.13898739],\n",
       "        [-0.46027806],\n",
       "        [-0.14302899],\n",
       "        [-0.10814462],\n",
       "        [-0.20028135],\n",
       "        [-0.06647871],\n",
       "        [-0.185685  ],\n",
       "        [ 0.03842759],\n",
       "        [-0.20776229],\n",
       "        [ 0.11331622],\n",
       "        [-0.00575929],\n",
       "        [-0.6533326 ],\n",
       "        [ 0.27160186],\n",
       "        [-0.1219907 ],\n",
       "        [-0.07793983],\n",
       "        [-0.47398221],\n",
       "        [ 0.21782704],\n",
       "        [ 0.00669602],\n",
       "        [ 0.10809279],\n",
       "        [ 0.19016808],\n",
       "        [ 0.05481609],\n",
       "        [-0.25971606],\n",
       "        [ 0.18425064],\n",
       "        [ 0.18537894],\n",
       "        [ 0.249053  ],\n",
       "        [ 0.23244083],\n",
       "        [-0.05408022],\n",
       "        [ 0.02507173],\n",
       "        [ 0.06945772],\n",
       "        [-0.1691909 ],\n",
       "        [-0.13362288],\n",
       "        [-0.14087623],\n",
       "        [-0.13755384],\n",
       "        [-0.07253873],\n",
       "        [-0.06316783],\n",
       "        [-0.11263703],\n",
       "        [-0.27352384],\n",
       "        [ 0.04963613],\n",
       "        [ 0.28135228],\n",
       "        [-0.02132877],\n",
       "        [-0.07170424],\n",
       "        [ 0.17499308],\n",
       "        [-0.0547635 ],\n",
       "        [ 0.14410783],\n",
       "        [-0.16083524],\n",
       "        [ 0.23703201],\n",
       "        [ 0.07856185],\n",
       "        [ 0.17216735],\n",
       "        [-0.15610124],\n",
       "        [-0.0596033 ],\n",
       "        [ 0.17391695],\n",
       "        [-0.2028525 ],\n",
       "        [ 0.18127334],\n",
       "        [-0.0716134 ],\n",
       "        [-0.1810068 ],\n",
       "        [ 0.0925726 ],\n",
       "        [ 0.20728073],\n",
       "        [ 0.04283101],\n",
       "        [-0.04224638],\n",
       "        [ 0.07392973],\n",
       "        [ 0.09414853],\n",
       "        [-0.06504615],\n",
       "        [-0.16514345],\n",
       "        [ 0.10824586],\n",
       "        [-0.34304005],\n",
       "        [ 0.14236948],\n",
       "        [ 0.03317511],\n",
       "        [-0.04181426],\n",
       "        [-0.18362221],\n",
       "        [-0.12022179],\n",
       "        [-0.09240937],\n",
       "        [-0.22602889],\n",
       "        [-0.17244194],\n",
       "        [ 0.28853968],\n",
       "        [ 0.00293702],\n",
       "        [-0.18902247],\n",
       "        [-0.01521479],\n",
       "        [-0.20279342],\n",
       "        [-0.5715395 ],\n",
       "        [-0.20677501],\n",
       "        [-0.00772441],\n",
       "        [ 0.08563705],\n",
       "        [ 0.21279927],\n",
       "        [ 0.11248685],\n",
       "        [ 0.02957002],\n",
       "        [-0.22215624],\n",
       "        [-0.04192092],\n",
       "        [ 0.1269755 ],\n",
       "        [-0.18810876],\n",
       "        [-0.06944816],\n",
       "        [ 0.64525515],\n",
       "        [-0.17573659],\n",
       "        [-0.12825835],\n",
       "        [ 0.12361547],\n",
       "        [-0.23463899],\n",
       "        [-0.03230236],\n",
       "        [ 0.19225124],\n",
       "        [-0.22533064],\n",
       "        [ 0.25292116],\n",
       "        [ 0.06383695],\n",
       "        [-0.03710332],\n",
       "        [-0.23510584],\n",
       "        [-0.10352337],\n",
       "        [-0.35218662],\n",
       "        [-0.1396357 ],\n",
       "        [-0.12230909],\n",
       "        [ 0.19628021],\n",
       "        [ 0.22175546],\n",
       "        [ 0.00511525],\n",
       "        [-0.09002043],\n",
       "        [-0.14366144],\n",
       "        [-0.06007975],\n",
       "        [ 0.09787478],\n",
       "        [-0.43688825],\n",
       "        [-0.04182573],\n",
       "        [ 0.3075507 ],\n",
       "        [ 0.13784818],\n",
       "        [-0.02944556],\n",
       "        [ 0.14998493],\n",
       "        [-0.2979395 ],\n",
       "        [-0.02468138],\n",
       "        [-0.01193278],\n",
       "        [-0.22570616],\n",
       "        [ 0.09733917],\n",
       "        [-0.00337431],\n",
       "        [ 0.15447526]], dtype=float32),\n",
       " array([-0.03859873], dtype=float32)]"
      ]
     },
     "execution_count": 7,
     "metadata": {},
     "output_type": "execute_result"
    }
   ],
   "execution_count": 7
  },
  {
   "metadata": {
    "ExecuteTime": {
     "end_time": "2025-07-05T20:09:45.455714Z",
     "start_time": "2025-07-05T20:09:45.451618Z"
    }
   },
   "cell_type": "code",
   "source": [
    "# Step 2: Helper Functions\n",
    "# Function to decode reviews\n",
    "def decode_review(encoded_review):\n",
    "    return ' '.join([reverse_word_index.get(i - 3, '?') for i in encoded_review])\n",
    "\n",
    "# Function to preprocess user input\n",
    "def preprocess_text(text):\n",
    "    words = text.lower().split()\n",
    "    encoded_review = [word_index.get(word, 2) + 3 for word in words]\n",
    "    padded_review = sequence.pad_sequences([encoded_review], maxlen=500)\n",
    "    return padded_review"
   ],
   "id": "f6adf40c8aa2fa33",
   "outputs": [],
   "execution_count": 8
  },
  {
   "metadata": {
    "ExecuteTime": {
     "end_time": "2025-07-05T20:09:55.997211Z",
     "start_time": "2025-07-05T20:09:55.993325Z"
    }
   },
   "cell_type": "code",
   "source": [
    "### Prediction  function\n",
    "\n",
    "def predict_sentiment(review):\n",
    "    preprocessed_input=preprocess_text(review)\n",
    "\n",
    "    prediction=model.predict(preprocessed_input)\n",
    "\n",
    "    sentiment = 'Positive' if prediction[0][0] > 0.5 else 'Negative'\n",
    "    \n",
    "    return sentiment, prediction[0][0]"
   ],
   "id": "cefa0ffad99dd44f",
   "outputs": [],
   "execution_count": 9
  },
  {
   "metadata": {
    "ExecuteTime": {
     "end_time": "2025-07-05T20:10:51.611614Z",
     "start_time": "2025-07-05T20:10:51.525623Z"
    }
   },
   "cell_type": "code",
   "source": [
    "# Step 4: User Input and Prediction\n",
    "# Example review for prediction\n",
    "example_review = \"This movie was not fantastic! The acting was not so great and the plot was boring.\"\n",
    "\n",
    "sentiment,score=predict_sentiment(example_review)\n",
    "\n",
    "print(f'Review: {example_review}')\n",
    "print(f'Sentiment: {sentiment}')\n",
    "print(f'Prediction Score: {score}')"
   ],
   "id": "2f4b082efacee204",
   "outputs": [
    {
     "name": "stdout",
     "output_type": "stream",
     "text": [
      "\u001B[1m1/1\u001B[0m \u001B[32m━━━━━━━━━━━━━━━━━━━━\u001B[0m\u001B[37m\u001B[0m \u001B[1m0s\u001B[0m 40ms/step\n",
      "Review: This movie was not fantastic! The acting was not so great and the plot was boring.\n",
      "Sentiment: Positive\n",
      "Prediction Score: 0.6606932878494263\n"
     ]
    }
   ],
   "execution_count": 14
  },
  {
   "metadata": {},
   "cell_type": "code",
   "outputs": [],
   "execution_count": null,
   "source": "",
   "id": "7f23bfabb2a33375"
  }
 ],
 "metadata": {
  "kernelspec": {
   "display_name": "Python 3",
   "language": "python",
   "name": "python3"
  },
  "language_info": {
   "codemirror_mode": {
    "name": "ipython",
    "version": 2
   },
   "file_extension": ".py",
   "mimetype": "text/x-python",
   "name": "python",
   "nbconvert_exporter": "python",
   "pygments_lexer": "ipython2",
   "version": "2.7.6"
  }
 },
 "nbformat": 4,
 "nbformat_minor": 5
}
