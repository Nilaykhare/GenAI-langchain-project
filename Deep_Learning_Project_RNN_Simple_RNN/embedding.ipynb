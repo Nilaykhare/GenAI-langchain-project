{
 "cells": [
  {
   "metadata": {},
   "cell_type": "code",
   "outputs": [],
   "execution_count": 1,
   "source": "from tensorflow.keras.preprocessing.text import one_hot",
   "id": "f404d9c9bd369fd5"
  },
  {
   "metadata": {
    "ExecuteTime": {
     "end_time": "2025-06-29T12:56:51.877012Z",
     "start_time": "2025-06-29T12:56:51.873584Z"
    }
   },
   "cell_type": "code",
   "source": [
    "sent = ['the glass of milk','the glass of juice',\n",
    "        'the cup of tea','I am a good boy',\n",
    "        'I am a good developer',\n",
    "        'understand the meaning of words',\n",
    "        'your videos are good',] "
   ],
   "id": "11fdb8b22a2dd3fd",
   "outputs": [],
   "execution_count": 2
  },
  {
   "metadata": {
    "ExecuteTime": {
     "end_time": "2025-06-29T12:56:51.884954Z",
     "start_time": "2025-06-29T12:56:51.877012Z"
    }
   },
   "cell_type": "code",
   "source": "sent",
   "id": "da7fb80963d89dca",
   "outputs": [
    {
     "data": {
      "text/plain": [
       "['the glass of milk',\n",
       " 'the glass of juice',\n",
       " 'the cup of tea',\n",
       " 'I am a good boy',\n",
       " 'I am a good developer',\n",
       " 'understand the meaning of words',\n",
       " 'your videos are good']"
      ]
     },
     "execution_count": 3,
     "metadata": {},
     "output_type": "execute_result"
    }
   ],
   "execution_count": 3
  },
  {
   "metadata": {
    "ExecuteTime": {
     "end_time": "2025-06-29T12:56:51.891767Z",
     "start_time": "2025-06-29T12:56:51.884954Z"
    }
   },
   "cell_type": "code",
   "source": [
    "## define the vocabulary size\n",
    "voc_size = 10000\n",
    "\n",
    "## One hot representation\n",
    "one_hot_repr = [one_hot(words,voc_size) for words in sent]\n",
    "one_hot_repr"
   ],
   "id": "feed2b12f7b7110f",
   "outputs": [
    {
     "data": {
      "text/plain": [
       "[[5233, 3768, 3850, 4363],\n",
       " [5233, 3768, 3850, 649],\n",
       " [5233, 8808, 3850, 5750],\n",
       " [4887, 1691, 6490, 4402, 4340],\n",
       " [4887, 1691, 6490, 4402, 2310],\n",
       " [9807, 5233, 7148, 3850, 915],\n",
       " [3402, 8280, 9203, 4402]]"
      ]
     },
     "execution_count": 4,
     "metadata": {},
     "output_type": "execute_result"
    }
   ],
   "execution_count": 4
  },
  {
   "metadata": {
    "ExecuteTime": {
     "end_time": "2025-06-29T12:56:51.898937Z",
     "start_time": "2025-06-29T12:56:51.892771Z"
    }
   },
   "cell_type": "code",
   "source": [
    " ## word embedding representation\n",
    "from tensorflow.keras.layers import Embedding\n",
    "from tensorflow.keras.utils import pad_sequences\n",
    "from tensorflow.keras.models import Sequential"
   ],
   "id": "bafe2a71689dba35",
   "outputs": [],
   "execution_count": 5
  },
  {
   "metadata": {
    "ExecuteTime": {
     "end_time": "2025-06-29T12:56:51.904767Z",
     "start_time": "2025-06-29T12:56:51.899944Z"
    }
   },
   "cell_type": "code",
   "source": [
    "sent_length = 8\n",
    "embdded_docs = pad_sequences(one_hot_repr, padding = 'pre', maxlen=sent_length)\n",
    "print(embdded_docs)"
   ],
   "id": "9e237c25996e54f2",
   "outputs": [
    {
     "name": "stdout",
     "output_type": "stream",
     "text": [
      "[[   0    0    0    0 5233 3768 3850 4363]\n",
      " [   0    0    0    0 5233 3768 3850  649]\n",
      " [   0    0    0    0 5233 8808 3850 5750]\n",
      " [   0    0    0 4887 1691 6490 4402 4340]\n",
      " [   0    0    0 4887 1691 6490 4402 2310]\n",
      " [   0    0    0 9807 5233 7148 3850  915]\n",
      " [   0    0    0    0 3402 8280 9203 4402]]\n"
     ]
    }
   ],
   "execution_count": 6
  },
  {
   "metadata": {
    "ExecuteTime": {
     "end_time": "2025-06-29T12:56:51.985572Z",
     "start_time": "2025-06-29T12:56:51.904767Z"
    }
   },
   "cell_type": "code",
   "source": [
    "## feature representation\n",
    "dim = 10\n",
    "model = Sequential()\n",
    "model.add(Embedding(voc_size, dim, input_length=sent_length))\n",
    "model.build(input_shape=(None, sent_length))\n",
    "model.compile('adam','mse')\n",
    "model.summary()"
   ],
   "id": "a706e05ca7f3906",
   "outputs": [
    {
     "name": "stderr",
     "output_type": "stream",
     "text": [
      "d:\\Projects\\GenAI_langchain_project\\venv\\Lib\\site-packages\\keras\\src\\layers\\core\\embedding.py:97: UserWarning: Argument `input_length` is deprecated. Just remove it.\n",
      "  warnings.warn(\n"
     ]
    },
    {
     "data": {
      "text/plain": [
       "\u001B[1mModel: \"sequential\"\u001B[0m\n"
      ],
      "text/html": [
       "<pre style=\"white-space:pre;overflow-x:auto;line-height:normal;font-family:Menlo,'DejaVu Sans Mono',consolas,'Courier New',monospace\"><span style=\"font-weight: bold\">Model: \"sequential\"</span>\n",
       "</pre>\n"
      ]
     },
     "metadata": {},
     "output_type": "display_data"
    },
    {
     "data": {
      "text/plain": [
       "┏━━━━━━━━━━━━━━━━━━━━━━━━━━━━━━━━━┳━━━━━━━━━━━━━━━━━━━━━━━━┳━━━━━━━━━━━━━━━┓\n",
       "┃\u001B[1m \u001B[0m\u001B[1mLayer (type)                   \u001B[0m\u001B[1m \u001B[0m┃\u001B[1m \u001B[0m\u001B[1mOutput Shape          \u001B[0m\u001B[1m \u001B[0m┃\u001B[1m \u001B[0m\u001B[1m      Param #\u001B[0m\u001B[1m \u001B[0m┃\n",
       "┡━━━━━━━━━━━━━━━━━━━━━━━━━━━━━━━━━╇━━━━━━━━━━━━━━━━━━━━━━━━╇━━━━━━━━━━━━━━━┩\n",
       "│ embedding (\u001B[38;5;33mEmbedding\u001B[0m)           │ (\u001B[38;5;45mNone\u001B[0m, \u001B[38;5;34m8\u001B[0m, \u001B[38;5;34m10\u001B[0m)          │       \u001B[38;5;34m100,000\u001B[0m │\n",
       "└─────────────────────────────────┴────────────────────────┴───────────────┘\n"
      ],
      "text/html": [
       "<pre style=\"white-space:pre;overflow-x:auto;line-height:normal;font-family:Menlo,'DejaVu Sans Mono',consolas,'Courier New',monospace\">┏━━━━━━━━━━━━━━━━━━━━━━━━━━━━━━━━━┳━━━━━━━━━━━━━━━━━━━━━━━━┳━━━━━━━━━━━━━━━┓\n",
       "┃<span style=\"font-weight: bold\"> Layer (type)                    </span>┃<span style=\"font-weight: bold\"> Output Shape           </span>┃<span style=\"font-weight: bold\">       Param # </span>┃\n",
       "┡━━━━━━━━━━━━━━━━━━━━━━━━━━━━━━━━━╇━━━━━━━━━━━━━━━━━━━━━━━━╇━━━━━━━━━━━━━━━┩\n",
       "│ embedding (<span style=\"color: #0087ff; text-decoration-color: #0087ff\">Embedding</span>)           │ (<span style=\"color: #00d7ff; text-decoration-color: #00d7ff\">None</span>, <span style=\"color: #00af00; text-decoration-color: #00af00\">8</span>, <span style=\"color: #00af00; text-decoration-color: #00af00\">10</span>)          │       <span style=\"color: #00af00; text-decoration-color: #00af00\">100,000</span> │\n",
       "└─────────────────────────────────┴────────────────────────┴───────────────┘\n",
       "</pre>\n"
      ]
     },
     "metadata": {},
     "output_type": "display_data"
    },
    {
     "data": {
      "text/plain": [
       "\u001B[1m Total params: \u001B[0m\u001B[38;5;34m100,000\u001B[0m (390.62 KB)\n"
      ],
      "text/html": [
       "<pre style=\"white-space:pre;overflow-x:auto;line-height:normal;font-family:Menlo,'DejaVu Sans Mono',consolas,'Courier New',monospace\"><span style=\"font-weight: bold\"> Total params: </span><span style=\"color: #00af00; text-decoration-color: #00af00\">100,000</span> (390.62 KB)\n",
       "</pre>\n"
      ]
     },
     "metadata": {},
     "output_type": "display_data"
    },
    {
     "data": {
      "text/plain": [
       "\u001B[1m Trainable params: \u001B[0m\u001B[38;5;34m100,000\u001B[0m (390.62 KB)\n"
      ],
      "text/html": [
       "<pre style=\"white-space:pre;overflow-x:auto;line-height:normal;font-family:Menlo,'DejaVu Sans Mono',consolas,'Courier New',monospace\"><span style=\"font-weight: bold\"> Trainable params: </span><span style=\"color: #00af00; text-decoration-color: #00af00\">100,000</span> (390.62 KB)\n",
       "</pre>\n"
      ]
     },
     "metadata": {},
     "output_type": "display_data"
    },
    {
     "data": {
      "text/plain": [
       "\u001B[1m Non-trainable params: \u001B[0m\u001B[38;5;34m0\u001B[0m (0.00 B)\n"
      ],
      "text/html": [
       "<pre style=\"white-space:pre;overflow-x:auto;line-height:normal;font-family:Menlo,'DejaVu Sans Mono',consolas,'Courier New',monospace\"><span style=\"font-weight: bold\"> Non-trainable params: </span><span style=\"color: #00af00; text-decoration-color: #00af00\">0</span> (0.00 B)\n",
       "</pre>\n"
      ]
     },
     "metadata": {},
     "output_type": "display_data"
    }
   ],
   "execution_count": 7
  },
  {
   "metadata": {
    "ExecuteTime": {
     "end_time": "2025-06-29T12:57:11.501267Z",
     "start_time": "2025-06-29T12:57:11.380787Z"
    }
   },
   "cell_type": "code",
   "source": "model.predict(embdded_docs)",
   "id": "f19e219ea1c6445e",
   "outputs": [
    {
     "name": "stdout",
     "output_type": "stream",
     "text": [
      "\u001B[1m1/1\u001B[0m \u001B[32m━━━━━━━━━━━━━━━━━━━━\u001B[0m\u001B[37m\u001B[0m \u001B[1m0s\u001B[0m 57ms/step\n"
     ]
    },
    {
     "data": {
      "text/plain": [
       "array([[[-0.00908614,  0.01845311,  0.00704577, -0.03622914,\n",
       "          0.0263538 ,  0.00940241,  0.0309921 ,  0.02422993,\n",
       "         -0.03071716, -0.00476361],\n",
       "        [-0.00908614,  0.01845311,  0.00704577, -0.03622914,\n",
       "          0.0263538 ,  0.00940241,  0.0309921 ,  0.02422993,\n",
       "         -0.03071716, -0.00476361],\n",
       "        [-0.00908614,  0.01845311,  0.00704577, -0.03622914,\n",
       "          0.0263538 ,  0.00940241,  0.0309921 ,  0.02422993,\n",
       "         -0.03071716, -0.00476361],\n",
       "        [-0.00908614,  0.01845311,  0.00704577, -0.03622914,\n",
       "          0.0263538 ,  0.00940241,  0.0309921 ,  0.02422993,\n",
       "         -0.03071716, -0.00476361],\n",
       "        [ 0.02452544, -0.03538563, -0.01185973, -0.04600445,\n",
       "          0.04253972,  0.02025947, -0.03332265, -0.019797  ,\n",
       "         -0.01939756, -0.03632005],\n",
       "        [ 0.01119778, -0.00718655,  0.02303317, -0.01181231,\n",
       "          0.016495  , -0.00117475,  0.01463237,  0.03238894,\n",
       "          0.03814072,  0.01055793],\n",
       "        [ 0.02806573, -0.01172321,  0.04794777,  0.03338033,\n",
       "         -0.03191704,  0.04080233, -0.04172073,  0.00280583,\n",
       "         -0.01504123,  0.03878201],\n",
       "        [ 0.01518781, -0.01000242, -0.01297156, -0.00543338,\n",
       "         -0.03868125,  0.02153469,  0.03959343,  0.02721656,\n",
       "          0.02059437,  0.00807228]],\n",
       "\n",
       "       [[-0.00908614,  0.01845311,  0.00704577, -0.03622914,\n",
       "          0.0263538 ,  0.00940241,  0.0309921 ,  0.02422993,\n",
       "         -0.03071716, -0.00476361],\n",
       "        [-0.00908614,  0.01845311,  0.00704577, -0.03622914,\n",
       "          0.0263538 ,  0.00940241,  0.0309921 ,  0.02422993,\n",
       "         -0.03071716, -0.00476361],\n",
       "        [-0.00908614,  0.01845311,  0.00704577, -0.03622914,\n",
       "          0.0263538 ,  0.00940241,  0.0309921 ,  0.02422993,\n",
       "         -0.03071716, -0.00476361],\n",
       "        [-0.00908614,  0.01845311,  0.00704577, -0.03622914,\n",
       "          0.0263538 ,  0.00940241,  0.0309921 ,  0.02422993,\n",
       "         -0.03071716, -0.00476361],\n",
       "        [ 0.02452544, -0.03538563, -0.01185973, -0.04600445,\n",
       "          0.04253972,  0.02025947, -0.03332265, -0.019797  ,\n",
       "         -0.01939756, -0.03632005],\n",
       "        [ 0.01119778, -0.00718655,  0.02303317, -0.01181231,\n",
       "          0.016495  , -0.00117475,  0.01463237,  0.03238894,\n",
       "          0.03814072,  0.01055793],\n",
       "        [ 0.02806573, -0.01172321,  0.04794777,  0.03338033,\n",
       "         -0.03191704,  0.04080233, -0.04172073,  0.00280583,\n",
       "         -0.01504123,  0.03878201],\n",
       "        [ 0.03717107, -0.03206303, -0.00388347, -0.02287149,\n",
       "          0.02017425, -0.04743054, -0.04615363,  0.00328717,\n",
       "         -0.02689242,  0.03970971]],\n",
       "\n",
       "       [[-0.00908614,  0.01845311,  0.00704577, -0.03622914,\n",
       "          0.0263538 ,  0.00940241,  0.0309921 ,  0.02422993,\n",
       "         -0.03071716, -0.00476361],\n",
       "        [-0.00908614,  0.01845311,  0.00704577, -0.03622914,\n",
       "          0.0263538 ,  0.00940241,  0.0309921 ,  0.02422993,\n",
       "         -0.03071716, -0.00476361],\n",
       "        [-0.00908614,  0.01845311,  0.00704577, -0.03622914,\n",
       "          0.0263538 ,  0.00940241,  0.0309921 ,  0.02422993,\n",
       "         -0.03071716, -0.00476361],\n",
       "        [-0.00908614,  0.01845311,  0.00704577, -0.03622914,\n",
       "          0.0263538 ,  0.00940241,  0.0309921 ,  0.02422993,\n",
       "         -0.03071716, -0.00476361],\n",
       "        [ 0.02452544, -0.03538563, -0.01185973, -0.04600445,\n",
       "          0.04253972,  0.02025947, -0.03332265, -0.019797  ,\n",
       "         -0.01939756, -0.03632005],\n",
       "        [-0.04067953, -0.01959123,  0.04982914,  0.04514549,\n",
       "          0.02908183,  0.02235064,  0.02712294, -0.01458607,\n",
       "         -0.02279816,  0.01508472],\n",
       "        [ 0.02806573, -0.01172321,  0.04794777,  0.03338033,\n",
       "         -0.03191704,  0.04080233, -0.04172073,  0.00280583,\n",
       "         -0.01504123,  0.03878201],\n",
       "        [-0.04745108,  0.03284705, -0.03667977,  0.02287891,\n",
       "         -0.01708732,  0.01443041,  0.01078782,  0.01515755,\n",
       "          0.00720235,  0.02643702]],\n",
       "\n",
       "       [[-0.00908614,  0.01845311,  0.00704577, -0.03622914,\n",
       "          0.0263538 ,  0.00940241,  0.0309921 ,  0.02422993,\n",
       "         -0.03071716, -0.00476361],\n",
       "        [-0.00908614,  0.01845311,  0.00704577, -0.03622914,\n",
       "          0.0263538 ,  0.00940241,  0.0309921 ,  0.02422993,\n",
       "         -0.03071716, -0.00476361],\n",
       "        [-0.00908614,  0.01845311,  0.00704577, -0.03622914,\n",
       "          0.0263538 ,  0.00940241,  0.0309921 ,  0.02422993,\n",
       "         -0.03071716, -0.00476361],\n",
       "        [-0.01087354, -0.04824251, -0.04643139, -0.03207573,\n",
       "          0.01320901, -0.03633641, -0.01480896, -0.01041792,\n",
       "          0.01061768,  0.02073539],\n",
       "        [ 0.01296936, -0.00253695, -0.01117065,  0.0383685 ,\n",
       "         -0.017603  ,  0.04203658, -0.02757632,  0.03148869,\n",
       "         -0.00492338, -0.00691156],\n",
       "        [-0.00507559,  0.00860839,  0.00767752,  0.03354415,\n",
       "          0.01012584, -0.0351593 ,  0.04836421, -0.01677209,\n",
       "         -0.04081042, -0.00760442],\n",
       "        [-0.0273625 , -0.02012112,  0.00090097,  0.04968895,\n",
       "          0.00446809,  0.03747609, -0.00574074, -0.01629074,\n",
       "         -0.01118217,  0.00752859],\n",
       "        [ 0.01477945, -0.00483352, -0.01876967,  0.03085655,\n",
       "         -0.02013888,  0.03487463, -0.01539373, -0.00665462,\n",
       "         -0.00858445, -0.02264518]],\n",
       "\n",
       "       [[-0.00908614,  0.01845311,  0.00704577, -0.03622914,\n",
       "          0.0263538 ,  0.00940241,  0.0309921 ,  0.02422993,\n",
       "         -0.03071716, -0.00476361],\n",
       "        [-0.00908614,  0.01845311,  0.00704577, -0.03622914,\n",
       "          0.0263538 ,  0.00940241,  0.0309921 ,  0.02422993,\n",
       "         -0.03071716, -0.00476361],\n",
       "        [-0.00908614,  0.01845311,  0.00704577, -0.03622914,\n",
       "          0.0263538 ,  0.00940241,  0.0309921 ,  0.02422993,\n",
       "         -0.03071716, -0.00476361],\n",
       "        [-0.01087354, -0.04824251, -0.04643139, -0.03207573,\n",
       "          0.01320901, -0.03633641, -0.01480896, -0.01041792,\n",
       "          0.01061768,  0.02073539],\n",
       "        [ 0.01296936, -0.00253695, -0.01117065,  0.0383685 ,\n",
       "         -0.017603  ,  0.04203658, -0.02757632,  0.03148869,\n",
       "         -0.00492338, -0.00691156],\n",
       "        [-0.00507559,  0.00860839,  0.00767752,  0.03354415,\n",
       "          0.01012584, -0.0351593 ,  0.04836421, -0.01677209,\n",
       "         -0.04081042, -0.00760442],\n",
       "        [-0.0273625 , -0.02012112,  0.00090097,  0.04968895,\n",
       "          0.00446809,  0.03747609, -0.00574074, -0.01629074,\n",
       "         -0.01118217,  0.00752859],\n",
       "        [ 0.03077343, -0.01221398,  0.01017562,  0.00225125,\n",
       "         -0.04676938, -0.00904308, -0.00820099, -0.00504496,\n",
       "          0.0209613 , -0.0093075 ]],\n",
       "\n",
       "       [[-0.00908614,  0.01845311,  0.00704577, -0.03622914,\n",
       "          0.0263538 ,  0.00940241,  0.0309921 ,  0.02422993,\n",
       "         -0.03071716, -0.00476361],\n",
       "        [-0.00908614,  0.01845311,  0.00704577, -0.03622914,\n",
       "          0.0263538 ,  0.00940241,  0.0309921 ,  0.02422993,\n",
       "         -0.03071716, -0.00476361],\n",
       "        [-0.00908614,  0.01845311,  0.00704577, -0.03622914,\n",
       "          0.0263538 ,  0.00940241,  0.0309921 ,  0.02422993,\n",
       "         -0.03071716, -0.00476361],\n",
       "        [-0.02152156, -0.01636356,  0.01767056,  0.04122745,\n",
       "          0.04244784, -0.04548106, -0.03643597,  0.01494593,\n",
       "          0.01108179, -0.02433928],\n",
       "        [ 0.02452544, -0.03538563, -0.01185973, -0.04600445,\n",
       "          0.04253972,  0.02025947, -0.03332265, -0.019797  ,\n",
       "         -0.01939756, -0.03632005],\n",
       "        [ 0.01908929,  0.04188867, -0.03511997,  0.01745499,\n",
       "          0.02315894,  0.00679475,  0.01591759, -0.03657486,\n",
       "         -0.04396052,  0.0138388 ],\n",
       "        [ 0.02806573, -0.01172321,  0.04794777,  0.03338033,\n",
       "         -0.03191704,  0.04080233, -0.04172073,  0.00280583,\n",
       "         -0.01504123,  0.03878201],\n",
       "        [-0.04213146,  0.00500951, -0.04139111, -0.03549983,\n",
       "         -0.00894604, -0.00373076, -0.00622695,  0.01328928,\n",
       "          0.0454891 , -0.03802415]],\n",
       "\n",
       "       [[-0.00908614,  0.01845311,  0.00704577, -0.03622914,\n",
       "          0.0263538 ,  0.00940241,  0.0309921 ,  0.02422993,\n",
       "         -0.03071716, -0.00476361],\n",
       "        [-0.00908614,  0.01845311,  0.00704577, -0.03622914,\n",
       "          0.0263538 ,  0.00940241,  0.0309921 ,  0.02422993,\n",
       "         -0.03071716, -0.00476361],\n",
       "        [-0.00908614,  0.01845311,  0.00704577, -0.03622914,\n",
       "          0.0263538 ,  0.00940241,  0.0309921 ,  0.02422993,\n",
       "         -0.03071716, -0.00476361],\n",
       "        [-0.00908614,  0.01845311,  0.00704577, -0.03622914,\n",
       "          0.0263538 ,  0.00940241,  0.0309921 ,  0.02422993,\n",
       "         -0.03071716, -0.00476361],\n",
       "        [-0.0277928 , -0.02828618,  0.00968413, -0.00947417,\n",
       "          0.00991503,  0.00308341,  0.02623094,  0.01084678,\n",
       "         -0.03241781,  0.0129017 ],\n",
       "        [ 0.01628831, -0.00381726,  0.00891564, -0.04449234,\n",
       "          0.02948109,  0.04861531, -0.04747022,  0.00270803,\n",
       "         -0.03944315, -0.02178952],\n",
       "        [ 0.00627244,  0.0188078 , -0.03940065,  0.03427454,\n",
       "         -0.01353566,  0.02337558, -0.04221183,  0.00804579,\n",
       "          0.00423219,  0.01075636],\n",
       "        [-0.0273625 , -0.02012112,  0.00090097,  0.04968895,\n",
       "          0.00446809,  0.03747609, -0.00574074, -0.01629074,\n",
       "         -0.01118217,  0.00752859]]], dtype=float32)"
      ]
     },
     "execution_count": 8,
     "metadata": {},
     "output_type": "execute_result"
    }
   ],
   "execution_count": 8
  },
  {
   "metadata": {
    "ExecuteTime": {
     "end_time": "2025-06-29T12:57:29.344394Z",
     "start_time": "2025-06-29T12:57:28.488747Z"
    }
   },
   "cell_type": "code",
   "source": "model.predict(embdded_docs[0])",
   "id": "298a3ac15ffd3354",
   "outputs": [
    {
     "ename": "ValueError",
     "evalue": "Exception encountered when calling Sequential.call().\n\n\u001B[1mCannot take the length of shape with unknown rank.\u001B[0m\n\nArguments received by Sequential.call():\n  • inputs=tf.Tensor(shape=<unknown>, dtype=int32)\n  • training=False\n  • mask=None\n  • kwargs=<class 'inspect._empty'>",
     "output_type": "error",
     "traceback": [
      "\u001B[31m---------------------------------------------------------------------------\u001B[39m",
      "\u001B[31mValueError\u001B[39m                                Traceback (most recent call last)",
      "\u001B[36mCell\u001B[39m\u001B[36m \u001B[39m\u001B[32mIn[9]\u001B[39m\u001B[32m, line 1\u001B[39m\n\u001B[32m----> \u001B[39m\u001B[32m1\u001B[39m \u001B[43mmodel\u001B[49m\u001B[43m.\u001B[49m\u001B[43mpredict\u001B[49m\u001B[43m(\u001B[49m\u001B[43membdded_docs\u001B[49m\u001B[43m[\u001B[49m\u001B[32;43m0\u001B[39;49m\u001B[43m]\u001B[49m\u001B[43m)\u001B[49m\n",
      "\u001B[36mFile \u001B[39m\u001B[32md:\\Projects\\GenAI_langchain_project\\venv\\Lib\\site-packages\\keras\\src\\utils\\traceback_utils.py:122\u001B[39m, in \u001B[36mfilter_traceback.<locals>.error_handler\u001B[39m\u001B[34m(*args, **kwargs)\u001B[39m\n\u001B[32m    119\u001B[39m     filtered_tb = _process_traceback_frames(e.__traceback__)\n\u001B[32m    120\u001B[39m     \u001B[38;5;66;03m# To get the full stack trace, call:\u001B[39;00m\n\u001B[32m    121\u001B[39m     \u001B[38;5;66;03m# `keras.config.disable_traceback_filtering()`\u001B[39;00m\n\u001B[32m--> \u001B[39m\u001B[32m122\u001B[39m     \u001B[38;5;28;01mraise\u001B[39;00m e.with_traceback(filtered_tb) \u001B[38;5;28;01mfrom\u001B[39;00m\u001B[38;5;250m \u001B[39m\u001B[38;5;28;01mNone\u001B[39;00m\n\u001B[32m    123\u001B[39m \u001B[38;5;28;01mfinally\u001B[39;00m:\n\u001B[32m    124\u001B[39m     \u001B[38;5;28;01mdel\u001B[39;00m filtered_tb\n",
      "\u001B[36mFile \u001B[39m\u001B[32md:\\Projects\\GenAI_langchain_project\\venv\\Lib\\site-packages\\keras\\src\\utils\\traceback_utils.py:122\u001B[39m, in \u001B[36mfilter_traceback.<locals>.error_handler\u001B[39m\u001B[34m(*args, **kwargs)\u001B[39m\n\u001B[32m    119\u001B[39m     filtered_tb = _process_traceback_frames(e.__traceback__)\n\u001B[32m    120\u001B[39m     \u001B[38;5;66;03m# To get the full stack trace, call:\u001B[39;00m\n\u001B[32m    121\u001B[39m     \u001B[38;5;66;03m# `keras.config.disable_traceback_filtering()`\u001B[39;00m\n\u001B[32m--> \u001B[39m\u001B[32m122\u001B[39m     \u001B[38;5;28;01mraise\u001B[39;00m e.with_traceback(filtered_tb) \u001B[38;5;28;01mfrom\u001B[39;00m\u001B[38;5;250m \u001B[39m\u001B[38;5;28;01mNone\u001B[39;00m\n\u001B[32m    123\u001B[39m \u001B[38;5;28;01mfinally\u001B[39;00m:\n\u001B[32m    124\u001B[39m     \u001B[38;5;28;01mdel\u001B[39;00m filtered_tb\n",
      "\u001B[31mValueError\u001B[39m: Exception encountered when calling Sequential.call().\n\n\u001B[1mCannot take the length of shape with unknown rank.\u001B[0m\n\nArguments received by Sequential.call():\n  • inputs=tf.Tensor(shape=<unknown>, dtype=int32)\n  • training=False\n  • mask=None\n  • kwargs=<class 'inspect._empty'>"
     ]
    }
   ],
   "execution_count": 9
  },
  {
   "metadata": {
    "ExecuteTime": {
     "end_time": "2025-06-29T12:54:02.190252Z",
     "start_time": "2025-06-29T12:54:02.184832Z"
    }
   },
   "cell_type": "code",
   "source": "embdded_docs[0]",
   "id": "dad6cd93fd92ddc7",
   "outputs": [
    {
     "data": {
      "text/plain": [
       "array([   0,    0,    0,    0,  679, 5533, 9155, 1973])"
      ]
     },
     "execution_count": 9,
     "metadata": {},
     "output_type": "execute_result"
    }
   ],
   "execution_count": 9
  },
  {
   "metadata": {
    "ExecuteTime": {
     "end_time": "2025-06-29T13:36:13.900881Z",
     "start_time": "2025-06-29T13:36:13.827499Z"
    }
   },
   "cell_type": "code",
   "source": [
    "import numpy as np\n",
    "output = model.predict(np.expand_dims(embdded_docs[0], axis=0))"
   ],
   "id": "ca653f2a614260f2",
   "outputs": [
    {
     "name": "stdout",
     "output_type": "stream",
     "text": [
      "\u001B[1m1/1\u001B[0m \u001B[32m━━━━━━━━━━━━━━━━━━━━\u001B[0m\u001B[37m\u001B[0m \u001B[1m0s\u001B[0m 31ms/step\n"
     ]
    }
   ],
   "execution_count": 11
  },
  {
   "metadata": {
    "ExecuteTime": {
     "end_time": "2025-06-29T13:36:23.181949Z",
     "start_time": "2025-06-29T13:36:23.177544Z"
    }
   },
   "cell_type": "code",
   "source": "output.shape",
   "id": "73ddde5a07f6bcd5",
   "outputs": [
    {
     "data": {
      "text/plain": [
       "(1, 8, 10)"
      ]
     },
     "execution_count": 12,
     "metadata": {},
     "output_type": "execute_result"
    }
   ],
   "execution_count": 12
  },
  {
   "metadata": {
    "ExecuteTime": {
     "end_time": "2025-06-29T13:36:53.721003Z",
     "start_time": "2025-06-29T13:36:53.712098Z"
    }
   },
   "cell_type": "code",
   "source": "output[0]",
   "id": "2540d30c3b7e2e53",
   "outputs": [
    {
     "data": {
      "text/plain": [
       "array([[-0.00908614,  0.01845311,  0.00704577, -0.03622914,  0.0263538 ,\n",
       "         0.00940241,  0.0309921 ,  0.02422993, -0.03071716, -0.00476361],\n",
       "       [-0.00908614,  0.01845311,  0.00704577, -0.03622914,  0.0263538 ,\n",
       "         0.00940241,  0.0309921 ,  0.02422993, -0.03071716, -0.00476361],\n",
       "       [-0.00908614,  0.01845311,  0.00704577, -0.03622914,  0.0263538 ,\n",
       "         0.00940241,  0.0309921 ,  0.02422993, -0.03071716, -0.00476361],\n",
       "       [-0.00908614,  0.01845311,  0.00704577, -0.03622914,  0.0263538 ,\n",
       "         0.00940241,  0.0309921 ,  0.02422993, -0.03071716, -0.00476361],\n",
       "       [ 0.02452544, -0.03538563, -0.01185973, -0.04600445,  0.04253972,\n",
       "         0.02025947, -0.03332265, -0.019797  , -0.01939756, -0.03632005],\n",
       "       [ 0.01119778, -0.00718655,  0.02303317, -0.01181231,  0.016495  ,\n",
       "        -0.00117475,  0.01463237,  0.03238894,  0.03814072,  0.01055793],\n",
       "       [ 0.02806573, -0.01172321,  0.04794777,  0.03338033, -0.03191704,\n",
       "         0.04080233, -0.04172073,  0.00280583, -0.01504123,  0.03878201],\n",
       "       [ 0.01518781, -0.01000242, -0.01297156, -0.00543338, -0.03868125,\n",
       "         0.02153469,  0.03959343,  0.02721656,  0.02059437,  0.00807228]],\n",
       "      dtype=float32)"
      ]
     },
     "execution_count": 15,
     "metadata": {},
     "output_type": "execute_result"
    }
   ],
   "execution_count": 15
  },
  {
   "metadata": {},
   "cell_type": "code",
   "outputs": [],
   "execution_count": null,
   "source": "",
   "id": "e181799674954f18"
  }
 ],
 "metadata": {
  "kernelspec": {
   "display_name": "Python 3",
   "language": "python",
   "name": "python3"
  },
  "language_info": {
   "codemirror_mode": {
    "name": "ipython",
    "version": 2
   },
   "file_extension": ".py",
   "mimetype": "text/x-python",
   "name": "python",
   "nbconvert_exporter": "python",
   "pygments_lexer": "ipython2",
   "version": "2.7.6"
  }
 },
 "nbformat": 4,
 "nbformat_minor": 5
}
