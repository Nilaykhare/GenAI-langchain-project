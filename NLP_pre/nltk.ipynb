{
 "cells": [
  {
   "metadata": {
    "ExecuteTime": {
     "end_time": "2025-05-28T13:58:16.564772Z",
     "start_time": "2025-05-28T13:58:16.557085Z"
    }
   },
   "cell_type": "code",
   "source": [
    "corpus=\"\"\"Hello Welcome,to Krish Naik's NLP Tutorials.\n",
    "Please do watch the entire course! to become expert in NLP.\n",
    "\"\"\""
   ],
   "id": "2cad075b973604f0",
   "outputs": [],
   "execution_count": 1
  },
  {
   "metadata": {
    "ExecuteTime": {
     "end_time": "2025-05-28T13:58:17.915679Z",
     "start_time": "2025-05-28T13:58:17.908479Z"
    }
   },
   "cell_type": "code",
   "source": "print(corpus)",
   "id": "12da11283e9bee9",
   "outputs": [
    {
     "name": "stdout",
     "output_type": "stream",
     "text": [
      "Hello Welcome,to Krish Naik's NLP Tutorials.\n",
      "Please do watch the entire course! to become expert in NLP.\n",
      "\n"
     ]
    }
   ],
   "execution_count": 2
  },
  {
   "metadata": {
    "ExecuteTime": {
     "end_time": "2025-05-28T13:58:22.521637Z",
     "start_time": "2025-05-28T13:58:21.113691Z"
    }
   },
   "cell_type": "code",
   "source": [
    "# TOkenisation\n",
    "## sentence--> paragraphs\n",
    "import nltk\n",
    "from nltk.tokenize import sent_tokenize\n",
    "#nltk.download('punkt_tab')"
   ],
   "id": "e6e2a30c030f9a9b",
   "outputs": [],
   "execution_count": 3
  },
  {
   "metadata": {
    "ExecuteTime": {
     "end_time": "2025-05-28T14:18:30.249384Z",
     "start_time": "2025-05-28T14:18:30.242118Z"
    }
   },
   "cell_type": "code",
   "source": "documents= sent_tokenize(corpus)",
   "id": "bb4b23521765502",
   "outputs": [],
   "execution_count": 5
  },
  {
   "metadata": {
    "ExecuteTime": {
     "end_time": "2025-05-28T14:18:35.822604Z",
     "start_time": "2025-05-28T14:18:35.818040Z"
    }
   },
   "cell_type": "code",
   "source": "documents",
   "id": "78c6ccc6e3421888",
   "outputs": [
    {
     "data": {
      "text/plain": [
       "[\"Hello Welcome,to Krish Naik's NLP Tutorials.\",\n",
       " 'Please do watch the entire course!',\n",
       " 'to become expert in NLP.']"
      ]
     },
     "execution_count": 6,
     "metadata": {},
     "output_type": "execute_result"
    }
   ],
   "execution_count": 6
  },
  {
   "metadata": {
    "ExecuteTime": {
     "end_time": "2025-05-28T14:18:43.478152Z",
     "start_time": "2025-05-28T14:18:43.468313Z"
    }
   },
   "cell_type": "code",
   "source": "type(documents)",
   "id": "5be572182fd108b5",
   "outputs": [
    {
     "data": {
      "text/plain": [
       "list"
      ]
     },
     "execution_count": 7,
     "metadata": {},
     "output_type": "execute_result"
    }
   ],
   "execution_count": 7
  },
  {
   "metadata": {
    "ExecuteTime": {
     "end_time": "2025-05-28T14:19:37.958753Z",
     "start_time": "2025-05-28T14:19:37.955565Z"
    }
   },
   "cell_type": "code",
   "source": [
    "## Tokenistaion\n",
    "#paragraphs--> words\n",
    "#sentence--> words\n",
    "from nltk.tokenize import word_tokenize"
   ],
   "id": "19d55ab5d2ddc58d",
   "outputs": [],
   "execution_count": 11
  },
  {
   "metadata": {
    "ExecuteTime": {
     "end_time": "2025-05-28T14:19:57.743234Z",
     "start_time": "2025-05-28T14:19:57.727822Z"
    }
   },
   "cell_type": "code",
   "source": "word_tokenize(corpus)",
   "id": "5990f83fe2bb825a",
   "outputs": [
    {
     "data": {
      "text/plain": [
       "['Hello',\n",
       " 'Welcome',\n",
       " ',',\n",
       " 'to',\n",
       " 'Krish',\n",
       " 'Naik',\n",
       " \"'s\",\n",
       " 'NLP',\n",
       " 'Tutorials',\n",
       " '.',\n",
       " 'Please',\n",
       " 'do',\n",
       " 'watch',\n",
       " 'the',\n",
       " 'entire',\n",
       " 'course',\n",
       " '!',\n",
       " 'to',\n",
       " 'become',\n",
       " 'expert',\n",
       " 'in',\n",
       " 'NLP',\n",
       " '.']"
      ]
     },
     "execution_count": 12,
     "metadata": {},
     "output_type": "execute_result"
    }
   ],
   "execution_count": 12
  },
  {
   "metadata": {
    "ExecuteTime": {
     "end_time": "2025-05-28T14:22:11.051369Z",
     "start_time": "2025-05-28T14:22:11.042665Z"
    }
   },
   "cell_type": "code",
   "source": "from nltk.tokenize import wordpunct_tokenize",
   "id": "ebe9a5720f28f5ae",
   "outputs": [],
   "execution_count": 13
  },
  {
   "metadata": {
    "ExecuteTime": {
     "end_time": "2025-05-28T14:22:19.010043Z",
     "start_time": "2025-05-28T14:22:19.004871Z"
    }
   },
   "cell_type": "code",
   "source": "wordpunct_tokenize(corpus)",
   "id": "131d0bf5d80491ab",
   "outputs": [
    {
     "data": {
      "text/plain": [
       "['Hello',\n",
       " 'Welcome',\n",
       " ',',\n",
       " 'to',\n",
       " 'Krish',\n",
       " 'Naik',\n",
       " \"'\",\n",
       " 's',\n",
       " 'NLP',\n",
       " 'Tutorials',\n",
       " '.',\n",
       " 'Please',\n",
       " 'do',\n",
       " 'watch',\n",
       " 'the',\n",
       " 'entire',\n",
       " 'course',\n",
       " '!',\n",
       " 'to',\n",
       " 'become',\n",
       " 'expert',\n",
       " 'in',\n",
       " 'NLP',\n",
       " '.']"
      ]
     },
     "execution_count": 14,
     "metadata": {},
     "output_type": "execute_result"
    }
   ],
   "execution_count": 14
  },
  {
   "metadata": {
    "ExecuteTime": {
     "end_time": "2025-05-28T14:23:43.565381Z",
     "start_time": "2025-05-28T14:23:43.560418Z"
    }
   },
   "cell_type": "code",
   "source": "from nltk.tokenize import TreebankWordTokenizer",
   "id": "e772501780f62485",
   "outputs": [],
   "execution_count": 15
  },
  {
   "metadata": {
    "ExecuteTime": {
     "end_time": "2025-05-28T14:24:11.584137Z",
     "start_time": "2025-05-28T14:24:11.580119Z"
    }
   },
   "cell_type": "code",
   "source": "tokeniser=TreebankWordTokenizer()",
   "id": "d673b2f4876bc688",
   "outputs": [],
   "execution_count": 16
  },
  {
   "metadata": {
    "ExecuteTime": {
     "end_time": "2025-05-28T14:24:18.174756Z",
     "start_time": "2025-05-28T14:24:18.169406Z"
    }
   },
   "cell_type": "code",
   "source": "tokeniser.tokenize(corpus)",
   "id": "d464d84106abb4af",
   "outputs": [
    {
     "data": {
      "text/plain": [
       "['Hello',\n",
       " 'Welcome',\n",
       " ',',\n",
       " 'to',\n",
       " 'Krish',\n",
       " 'Naik',\n",
       " \"'s\",\n",
       " 'NLP',\n",
       " 'Tutorials.',\n",
       " 'Please',\n",
       " 'do',\n",
       " 'watch',\n",
       " 'the',\n",
       " 'entire',\n",
       " 'course',\n",
       " '!',\n",
       " 'to',\n",
       " 'become',\n",
       " 'expert',\n",
       " 'in',\n",
       " 'NLP',\n",
       " '.']"
      ]
     },
     "execution_count": 17,
     "metadata": {},
     "output_type": "execute_result"
    }
   ],
   "execution_count": 17
  },
  {
   "metadata": {},
   "cell_type": "code",
   "outputs": [],
   "execution_count": null,
   "source": "",
   "id": "f0e96a13b37d4416"
  }
 ],
 "metadata": {
  "kernelspec": {
   "display_name": "Python 3",
   "language": "python",
   "name": "python3"
  },
  "language_info": {
   "codemirror_mode": {
    "name": "ipython",
    "version": 2
   },
   "file_extension": ".py",
   "mimetype": "text/x-python",
   "name": "python",
   "nbconvert_exporter": "python",
   "pygments_lexer": "ipython2",
   "version": "2.7.6"
  }
 },
 "nbformat": 4,
 "nbformat_minor": 5
}
